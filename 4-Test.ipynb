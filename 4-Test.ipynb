{
 "cells": [
  {
   "cell_type": "code",
   "execution_count": 1,
   "metadata": {},
   "outputs": [
    {
     "data": {
      "text/html": [
       "<style>.container{width:100%;}</style>\n"
      ],
      "text/plain": [
       "<IPython.core.display.HTML object>"
      ]
     },
     "metadata": {},
     "output_type": "display_data"
    }
   ],
   "source": [
    "%%HTML\n",
    "<style>.container{width:100%;}</style>"
   ]
  },
  {
   "cell_type": "markdown",
   "metadata": {},
   "source": [
    "# Tests\n",
    "\n",
    "In der Datei `test_OrderedSet.py` sind die Tests von `set` und `frozenset` in [CPython](https://github.com/python/cpython/blob/3.7/Lib/test/test_set.py \"R. D. Hettinger et al. (2019): cpython/Lib/test/test_set.py, GitHub\"). Wir speichern die Tests in einer Datei statt in einem Block, weil wir sie so leichter für die Versionen mit und ohne Cython ausführen können. In dieser Datei wurden einige Details modifiziert:\n",
    "\n",
    "- `set` und `frozenset` wurden mit IDE-Werkzeugen zu `OrderedSet` und `OrderedFrozenset` umbenannt.\n",
    "- Notation mit erweiterten regulären Ausdrücken: `{([^:]+?)}` wurde mit `OrderedSet([$1])` ersetzt, sodass Mengenliterale in `OrderedSet`s übersetzt werden, aber keine Dictionary-Literale.\n",
    "- In `TestBasicOps.check_repr_against_values` ist die Überprüfung der Stringrepräsentation auf die von `OrderedSet` angepasst.\n",
    "- In `TestJointOps.test_sub_and_super`, `TestSubsets` und `TestIdentities.test_binopsVsSubsets` ist die Verwendung von `<` und `>` auf `is_proper_subset` und `is_proper_superset` angepasst.\n",
    "- Am Ende des Programms wurde `if __name == '__main__':↵    unittest.main()` zu `unittest.main(argv=[\"\"], exit=False)` geändert, weil die Tests in Jupyter anders als in einem Skript aufgerufen werden müssen.\n",
    "\n",
    "Einige Tests werden auch übersprungen:\n",
    "\n",
    "- `TestJointOps.test_iterator_pickling` *pickle*t einen Iterator. Dafür müssten wir explizit ein zustandsbehaftetes Iteratorobjekt schreiben. Dies ist möglich, wird jedoch unterlassen, da die Performancenachteile der Erstellung solcher Objekte zu hoch sind.\n",
    "- `TestJointOps.test_do_not_rehash_dict_keys` überprüft, ob die Hashwerte bei der Kopie von einem `dict` in ein `set` stabil bleiben. Dies gewährleisten wir nicht, da wir überhaupt keine Hashmaps benutzen, und somit auch keine Hashwerte vorhalten.\n",
    "- `TestFrozenSet.test_singleton_empty_frozenset` überprüft, dass die Speicheradresse der leeren unveränderlichen Menge immer gleich ist. Dies können wir ohne die Verwendung von C und damit explizitem Speichermanagement nicht abbilden.\n",
    "- `TestFrozenSet.test_constructor_identity` überprüft, dass die Speicheradressen von zwei soeben erstellten nichtleeren unveränderlichen Mengen mit gleichem Inhalt gleich sind. Auch hierfür wäre manuelles Speichermanagement erforderlich.\n",
    "- `TestFrozenSet.test_copy` überprüft, dass die Speicheradressen einer Kopie einer unveränderlichen Mengen gleich sind. Wieder wäre manuelles Speichermanagement erforderlich.\n",
    "- `TestFrozenSet.test_hash_effectiveness` überprüft die Streuung der Hashwerte von verschiedenen unveränderlichen Mengen. Dieser Test basiert auf der Annahme, dass ein Hashalgorithmus verwendet wird, der komplexer ist als der, den wir benutzen.\n",
    "- Die letzte Zeile von `TestBasicOps.test_iteration` ist auskommentiert, da sie den `__length_hint__` des Iteratorobjektes benutzt. Ein Abbilden dieses Verhaltens würde ein Iteratorobjekt statt eine `__iter__`-Implementierung mit `yield` erfordern (vgl. Kommentar zu `test_iterator_pickling`).\n",
    "\n",
    "Bei einigen Tests ist im Moment noch unklar, ob sie später übersprungen werden:\n",
    "\n",
    "- `TestJointOps.test_cyclical_repr` und `TestJointOps.test_cyclical_print` setzen voraus, dass bei der String-Repräsentation von Objekten Zyklen erkannt und mit `...` gekennzeichnet werden.\n",
    "- `TestExceptionPropagation.test_changingSizeWhileIterating` stellt sicher, dass die Modifikation einer Menge, während über sie iteriert wird, verboten ist.\n",
    "\n",
    "Dies gilt auch für einige Tests, die nur im Falle der Verwendung von Cython übersprungen werden.\n",
    "\n",
    "- `TestJointOps.check_free_after_iterating` gibt mit Cython `ValueError`s. Die verwendete Funktion ist nur für die CPython-interne Entwicklung und nicht weiter dokumentiert:"
   ]
  },
  {
   "cell_type": "code",
   "execution_count": 2,
   "metadata": {},
   "outputs": [
    {
     "name": "stdout",
     "output_type": "stream",
     "text": [
      "Help on function check_free_after_iterating in module test.support:\n",
      "\n",
      "check_free_after_iterating(test, iter, cls, args=())\n",
      "\n"
     ]
    }
   ],
   "source": [
    "import test.support\n",
    "help(test.support.check_free_after_iterating)"
   ]
  },
  {
   "cell_type": "markdown",
   "metadata": {},
   "source": [
    "- Der Teil von `TestJointOps.test_pickling`, in dem überprüft wird, ob Attribute, die Objekten von Unterklassen der Mengen hinzugefügt werden, beim Pickling beibehalten werden, wird übersprungen, da diese Funktionalität nicht mit Cythons Klassenstrukturen kompatibel scheint.\n",
    "- `TestFrozenSet.test_init` überprüft, ob, wenn auf ein bestehendes `OrderedFrozenset` nochmal `__init__` aufgerufen wird, die Menge wirklich eingefroren bleibt. Diese Funktionalität bilden wir derzeit nicht ab (vgl. `Cython.ipynb`).\n",
    "- `TestFrozenSet.test_hash`, `TestFrozenSet.test_frozen_as_dictkey` und `TestFrozenSet.test_hash_caching` geben mit Cython bei manchen (nicht bei allen) Durchläufen `OverflowError`s, dass der Hashwert einer unveränderlichen eingefrorenen Menge zu groß sei.\n",
    "\n",
    "Wir testen zunächst die Version ohne Cython."
   ]
  },
  {
   "cell_type": "code",
   "execution_count": 3,
   "metadata": {},
   "outputs": [
    {
     "data": {
      "text/html": [
       "<style>.container{width:100%;}</style>\n"
      ],
      "text/plain": [
       "<IPython.core.display.HTML object>"
      ]
     },
     "metadata": {},
     "output_type": "display_data"
    },
    {
     "data": {
      "text/html": [
       "<style>.container{width:100%;}</style>\n"
      ],
      "text/plain": [
       "<IPython.core.display.HTML object>"
      ]
     },
     "metadata": {},
     "output_type": "display_data"
    },
    {
     "name": "stdout",
     "output_type": "stream",
     "text": [
      "Help on class set in module builtins:\n",
      "\n",
      "class set(object)\n",
      " |  set() -> new empty set object\n",
      " |  set(iterable) -> new set object\n",
      " |  \n",
      " |  Build an unordered collection of unique elements.\n",
      " |  \n",
      " |  Methods defined here:\n",
      " |  \n",
      " |  __and__(self, value, /)\n",
      " |      Return self&value.\n",
      " |  \n",
      " |  __contains__(...)\n",
      " |      x.__contains__(y) <==> y in x.\n",
      " |  \n",
      " |  __eq__(self, value, /)\n",
      " |      Return self==value.\n",
      " |  \n",
      " |  __ge__(self, value, /)\n",
      " |      Return self>=value.\n",
      " |  \n",
      " |  __getattribute__(self, name, /)\n",
      " |      Return getattr(self, name).\n",
      " |  \n",
      " |  __gt__(self, value, /)\n",
      " |      Return self>value.\n",
      " |  \n",
      " |  __iand__(self, value, /)\n",
      " |      Return self&=value.\n",
      " |  \n",
      " |  __init__(self, /, *args, **kwargs)\n",
      " |      Initialize self.  See help(type(self)) for accurate signature.\n",
      " |  \n",
      " |  __ior__(self, value, /)\n",
      " |      Return self|=value.\n",
      " |  \n",
      " |  __isub__(self, value, /)\n",
      " |      Return self-=value.\n",
      " |  \n",
      " |  __iter__(self, /)\n",
      " |      Implement iter(self).\n",
      " |  \n",
      " |  __ixor__(self, value, /)\n",
      " |      Return self^=value.\n",
      " |  \n",
      " |  __le__(self, value, /)\n",
      " |      Return self<=value.\n",
      " |  \n",
      " |  __len__(self, /)\n",
      " |      Return len(self).\n",
      " |  \n",
      " |  __lt__(self, value, /)\n",
      " |      Return self<value.\n",
      " |  \n",
      " |  __ne__(self, value, /)\n",
      " |      Return self!=value.\n",
      " |  \n",
      " |  __or__(self, value, /)\n",
      " |      Return self|value.\n",
      " |  \n",
      " |  __rand__(self, value, /)\n",
      " |      Return value&self.\n",
      " |  \n",
      " |  __reduce__(...)\n",
      " |      Return state information for pickling.\n",
      " |  \n",
      " |  __repr__(self, /)\n",
      " |      Return repr(self).\n",
      " |  \n",
      " |  __ror__(self, value, /)\n",
      " |      Return value|self.\n",
      " |  \n",
      " |  __rsub__(self, value, /)\n",
      " |      Return value-self.\n",
      " |  \n",
      " |  __rxor__(self, value, /)\n",
      " |      Return value^self.\n",
      " |  \n",
      " |  __sizeof__(...)\n",
      " |      S.__sizeof__() -> size of S in memory, in bytes\n",
      " |  \n",
      " |  __sub__(self, value, /)\n",
      " |      Return self-value.\n",
      " |  \n",
      " |  __xor__(self, value, /)\n",
      " |      Return self^value.\n",
      " |  \n",
      " |  add(...)\n",
      " |      Add an element to a set.\n",
      " |      \n",
      " |      This has no effect if the element is already present.\n",
      " |  \n",
      " |  clear(...)\n",
      " |      Remove all elements from this set.\n",
      " |  \n",
      " |  copy(...)\n",
      " |      Return a shallow copy of a set.\n",
      " |  \n",
      " |  difference(...)\n",
      " |      Return the difference of two or more sets as a new set.\n",
      " |      \n",
      " |      (i.e. all elements that are in this set but not the others.)\n",
      " |  \n",
      " |  difference_update(...)\n",
      " |      Remove all elements of another set from this set.\n",
      " |  \n",
      " |  discard(...)\n",
      " |      Remove an element from a set if it is a member.\n",
      " |      \n",
      " |      If the element is not a member, do nothing.\n",
      " |  \n",
      " |  intersection(...)\n",
      " |      Return the intersection of two sets as a new set.\n",
      " |      \n",
      " |      (i.e. all elements that are in both sets.)\n",
      " |  \n",
      " |  intersection_update(...)\n",
      " |      Update a set with the intersection of itself and another.\n",
      " |  \n",
      " |  isdisjoint(...)\n",
      " |      Return True if two sets have a null intersection.\n",
      " |  \n",
      " |  issubset(...)\n",
      " |      Report whether another set contains this set.\n",
      " |  \n",
      " |  issuperset(...)\n",
      " |      Report whether this set contains another set.\n",
      " |  \n",
      " |  pop(...)\n",
      " |      Remove and return an arbitrary set element.\n",
      " |      Raises KeyError if the set is empty.\n",
      " |  \n",
      " |  remove(...)\n",
      " |      Remove an element from a set; it must be a member.\n",
      " |      \n",
      " |      If the element is not a member, raise a KeyError.\n",
      " |  \n",
      " |  symmetric_difference(...)\n",
      " |      Return the symmetric difference of two sets as a new set.\n",
      " |      \n",
      " |      (i.e. all elements that are in exactly one of the sets.)\n",
      " |  \n",
      " |  symmetric_difference_update(...)\n",
      " |      Update a set with the symmetric difference of itself and another.\n",
      " |  \n",
      " |  union(...)\n",
      " |      Return the union of sets as a new set.\n",
      " |      \n",
      " |      (i.e. all elements that are in either set.)\n",
      " |  \n",
      " |  update(...)\n",
      " |      Update a set with the union of itself and others.\n",
      " |  \n",
      " |  ----------------------------------------------------------------------\n",
      " |  Static methods defined here:\n",
      " |  \n",
      " |  __new__(*args, **kwargs) from builtins.type\n",
      " |      Create and return a new object.  See help(type) for accurate signature.\n",
      " |  \n",
      " |  ----------------------------------------------------------------------\n",
      " |  Data and other attributes defined here:\n",
      " |  \n",
      " |  __hash__ = None\n",
      "\n"
     ]
    }
   ],
   "source": [
    "%run 2-Ordered-Sets.ipynb"
   ]
  },
  {
   "cell_type": "markdown",
   "metadata": {},
   "source": [
    "Wir schalten Linting aus, insbesondere, weil einige Zeilen nun länger sind als im Original, vor allem wegen der Änderungen zu `OrderedSet` bzw. `OrderedFrozenset`. Auch ist das Linting nicht vollständig mit den Magic-Kommandos kompatibel. Die Tests, die wir bei Cython überspringen, überspringen wir nicht, dies ist mit der Variable `cython_skippings` gekennzeichnet. Die Tests lassen wir mit `%run -i` laufen, so werden sie im laufenden Namespace dieses Notebooks ausgeführt."
   ]
  },
  {
   "cell_type": "code",
   "execution_count": 4,
   "metadata": {
    "scrolled": true
   },
   "outputs": [
    {
     "name": "stderr",
     "output_type": "stream",
     "text": [
      "................................................................................................................................................................................................s....s..sss..s......s...s.....s.............ss..s......s...s........................................................................................................................s.....ss....s............s............................s.....ss....s............s...........................s.....ss....s............s........................................................\n",
      "----------------------------------------------------------------------\n",
      "Ran 561 tests in 3.294s\n",
      "\n",
      "OK (skipped=29)\n"
     ]
    }
   ],
   "source": [
    "%flake8_off\n",
    "cython_skippings = False\n",
    "%run -i test_OrderedSet.py"
   ]
  },
  {
   "cell_type": "markdown",
   "metadata": {},
   "source": [
    "Wir testen auch mit dem Notebook `3-Cython.ipynb`. Diesmal überspringen wir die mit unserer Cython-Implementierung inkompatiblen Tests."
   ]
  },
  {
   "cell_type": "code",
   "execution_count": 5,
   "metadata": {},
   "outputs": [
    {
     "data": {
      "text/html": [
       "<style>.container{width:100%;}</style>\n"
      ],
      "text/plain": [
       "<IPython.core.display.HTML object>"
      ]
     },
     "metadata": {},
     "output_type": "display_data"
    },
    {
     "name": "stderr",
     "output_type": "stream",
     "text": [
      "................................................................................................................................................................................................s....s..sss..s.ss.ssss..s.....s.............ss..s.ss.ssss..s........................................................................................................................s.....ss....s.s..........s............................s.....ss....s.s..........s...........................s.....ss....s.s..........s........................................................\n",
      "----------------------------------------------------------------------\n",
      "Ran 561 tests in 1.953s\n",
      "\n",
      "OK (skipped=42)\n"
     ]
    }
   ],
   "source": [
    "%run 3-Cython.ipynb\n",
    "cython_skippings = True\n",
    "%run -i test_OrderedSet.py"
   ]
  }
 ],
 "metadata": {
  "kernelspec": {
   "display_name": "Python 3",
   "language": "python",
   "name": "python3"
  },
  "language_info": {
   "codemirror_mode": {
    "name": "ipython",
    "version": 3
   },
   "file_extension": ".py",
   "mimetype": "text/x-python",
   "name": "python",
   "nbconvert_exporter": "python",
   "pygments_lexer": "ipython3",
   "version": "3.7.7"
  }
 },
 "nbformat": 4,
 "nbformat_minor": 2
}
