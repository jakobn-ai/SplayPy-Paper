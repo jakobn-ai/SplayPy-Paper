{
 "cells": [
  {
   "cell_type": "markdown",
   "metadata": {},
   "source": [
    "# Erklärung\n",
    "\n",
    "gemäß § 5 (3) der „Studien- und Prüfungsordnung DHBW Technik“ vom 22. September 2011.\n",
    "\n",
    "Ich habe die vorliegende Arbeit selbstständig verfasst und keine anderen als die angegebenen Quellen und Hilfsmittel verwendet.\n",
    "\n",
    "Ich versichere zudem, dass die eingereichte elektronische Fassung mit der gedruckten Fassung übereinstimmt.\n",
    "\n",
    "Hersbruck, den 27. April 2020\n",
    "\n",
    "Jakob Naucke\n",
    "\n",
    "# Abstracts\n",
    "\n",
    "## In deutscher Sprache\n",
    "\n",
    "ausstehend\n",
    "\n",
    "## In englischer Sprache\n",
    "\n",
    "ausstehend\n",
    "\n",
    "# Technische Voraussetzungen\n",
    "\n",
    "In den Notebooks verwendete Pakete müssen mit `conda install --file requirements.txt && pip install -r pip_only_requirements.txt` bzw. `pip install -r all_requirements.txt` installiert werden. Außerdem ist [Graphviz](http://graphviz.org \"J. Ellson et al. (2020): Graphviz\") auf dem System zu installieren. Für den Einsatz von *Cython* wird ein C-Compiler wie [GCC](https://gcc.gnu.org/ \"Free Software Foundation (2020): GCC, the GNU Compiler Collection\"), [Clang/LLVM](https://clang.llvm.org/ \"The LLVM Project (o. J.): Clang C Language Family Frontend for LLVM\") oder [MSVC](https://visualstudio.microsoft.com/ \"Microsoft Corporation (2020): Visual Studio\") benötigt.\n",
    "\n",
    "# Inhalt\n",
    "\n",
    "Dieses Repository enthält die Notebooks:\n",
    "\n",
    "- `0-Overview.ipynb` (dieses Notebook selbst), das einige Formalien liefert, diesen Überblick gibt, und kurz in das Thema einführt\n",
    "- `1-Splay-Trees.ipynb`, das die Implementierung von Splay Trees in Python zeigt\n",
    "- `2-Ordered-Sets.ipynb`, das die Implementierung von geordneten Mengen in Python auf Basis der Splay Trees zeigt\n",
    "- `3-Cython.ipynb`, das die Implementierungen sowohl von Splay Trees als auch von geordneten Mengen mit *Cython*-Optimierungen enthält, sowie weitere Optimierungen, die aus Gründen der Vergleichbarkeit und der Lesbarkeit in der reinen Python-Implementierung nicht enthalten ist\n",
    "- `4-Test.ipynb`, das beide Implementierungen mithilfe der offiziellen Tests der *CPython*-Referenzimplementierung funktional testet. Es nutzt dabei die Datei `test_OrderedSets.py`.\n",
    "- `5-Performance.ipynb`, das Performancevergleiche zwischen den Python-Implementierungen und anderen Datenstrukturen, zwischen verschiedenen Stufen der Optimierung im Code, sowie zwischen der mit Cython optimierten Version und den nativen Mengen zeigt. Es nutzt dabei mehrere Notebooks und Quelldateien in `Aux`, die *nicht* selbst verfasst wurden.\n",
    "- `6-Discussion.ipynb`, das die Ergebnisse diskutiert, sowie ein Literaturverzeichnis enthält\n",
    "\n",
    "# Einführung\n",
    "\n",
    "ausstehend"
   ]
  }
 ],
 "metadata": {
  "kernelspec": {
   "display_name": "Python 3",
   "language": "python",
   "name": "python3"
  },
  "language_info": {
   "codemirror_mode": {
    "name": "ipython",
    "version": 3
   },
   "file_extension": ".py",
   "mimetype": "text/x-python",
   "name": "python",
   "nbconvert_exporter": "python",
   "pygments_lexer": "ipython3",
   "version": "3.7.7"
  }
 },
 "nbformat": 4,
 "nbformat_minor": 4
}
