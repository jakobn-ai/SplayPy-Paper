{
 "cells": [
  {
   "cell_type": "markdown",
   "metadata": {},
   "source": [
    "# Erklärung\n",
    "\n",
    "gemäß § 5 (3) der „Studien- und Prüfungsordnung DHBW Technik“ vom 22. September 2011.\n",
    "\n",
    "Ich habe die vorliegende Arbeit selbstständig verfasst und keine anderen als die angegebenen Quellen und Hilfsmittel verwendet.\n",
    "\n",
    "Ich versichere zudem, dass die eingereichte elektronische Fassung mit der gedruckten Fassung übereinstimmt.\n",
    "\n",
    "Hersbruck, den 27. April 2020\n",
    "\n",
    "Jakob Naucke\n",
    "\n",
    "# Abstracts\n",
    "\n",
    "## In deutscher Sprache\n",
    "\n",
    "In dieser Arbeit wird eine bestimmte Form der selbstbalancierenden geordneten binären Bäume untersucht, die *Splay Trees*. Die Arbeit ist im interaktiven [Notebook-Format](https://jupyter.org/ \"Project Jupyter (2020): Home.\") geschrieben, die Implementierungen sind in der Programmiersprache Python gehalten. Mit den Splay Trees als Grunddatenstruktur werden *geordnete Mengen* entwickelt, die später mit Mengen auf Basis anderer Datenstrukturen, der AVL-Bäume und der Hashtabellen, in Performance verglichen werden. Im Vergleich mit den AVL-Bäumen liegen die Splay Trees ein wenig vorne, die Ergebnisse im Vergleich zu den Hashtabellen sind sehr gemischt. Die geordneten Mengen sind fast vollständig mit den nativen Python-Mengen kompatibel, sodass auch eine mit *Cython* optimierte Version der Splay-Mengen mit diesen in C implementierten Mengen im Hinblick auf Performance verglichen wird. Hier liegen die Splay Trees jedoch weit abgeschlagen und sollten somit für eine Verwendung in der Praxis allenfalls dann in Betracht gezogen werden, wenn die geordnete Eigenschaft eine wichtige Rolle spielt.\n",
    "\n",
    "## In englischer Sprache\n",
    "\n",
    "This thesis covers a specific kind of the self-balancing ordered binary tree, the *splay tree*. The thesis is written in the interactive [notebook format](https://jupyter.org/ \"Project Jupyter (2020): Home.\"), the implementations are done in the Python programming language. *Ordered sets* are developed, the splay trees being the underlying data structure, which are then compared to the performance of other set implementations based on other data structures, the *AVL trees* and the *hash maps*. The splay trees are somewhat ahead of the AVL trees in this comparison, the results with respect to the hash maps are quite mixed. The ordered set implementation is nearly fully compatible with the native Python sets, therefore, a version optimised with *Cython* is compared to these native sets, which are implemented in C, with respect to performance. In this case, the splay trees are way behind and should at best be considered for real-world use if the ordered property is important.\n",
    "\n",
    "# Technische Voraussetzungen\n",
    "\n",
    "In den Notebooks verwendete Pakete müssen mit `conda install --file requirements.txt && pip install -r pip_only_requirements.txt` bzw. `pip install -r all_requirements.txt` installiert werden. Außerdem ist [Graphviz](http://graphviz.org \"J. Ellson et al. (2020): Graphviz\") auf dem System zu installieren. Für den Einsatz von *Cython* wird ein C-Compiler wie [GCC](https://gcc.gnu.org/ \"Free Software Foundation (2020): GCC, the GNU Compiler Collection\"), [Clang/LLVM](https://clang.llvm.org/ \"The LLVM Project (o. J.): Clang C Language Family Frontend for LLVM\") oder [MSVC](https://visualstudio.microsoft.com/ \"Microsoft Corporation (2020): Visual Studio\") benötigt.\n",
    "\n",
    "# Inhalt\n",
    "\n",
    "Dieses Repository enthält die Notebooks:\n",
    "\n",
    "- `0-Overview.ipynb` (dieses Notebook selbst), das einige Formalien liefert, diesen Überblick gibt, und kurz in das Thema einführt\n",
    "- `1-Splay-Trees.ipynb`, das die Implementierung von Splay Trees in Python zeigt\n",
    "- `2-Ordered-Sets.ipynb`, das die Implementierung von geordneten Mengen in Python auf Basis der Splay Trees zeigt\n",
    "- `3-Cython.ipynb`, das die Implementierungen sowohl von Splay Trees als auch von geordneten Mengen mit *Cython*-Optimierungen enthält, sowie weitere Optimierungen, die aus Gründen der Vergleichbarkeit und der Lesbarkeit in der reinen Python-Implementierung nicht enthalten sind\n",
    "- `4-Test.ipynb`, das beide Implementierungen mithilfe der offiziellen Tests der *CPython*-Referenzimplementierung funktional testet. Es nutzt dabei die Datei `test_OrderedSets.py`.\n",
    "- `5-Performance.ipynb`, das Performancevergleiche zwischen den Python-Implementierungen und anderen Datenstrukturen, zwischen verschiedenen Stufen der Optimierung im Code, sowie zwischen der mit Cython optimierten Version und den nativen Mengen zeigt. Es nutzt dabei mehrere Notebooks und Quelldateien in `Aux`, die *nicht* selbst verfasst wurden.\n",
    "- `6-Discussion.ipynb`, das die Ergebnisse diskutiert, sowie ein Literaturverzeichnis enthält\n",
    "\n",
    "# Einführung\n",
    "\n",
    "In der Theorie der Datenstrukturen ist der Baum ein wichtiges Mittel, um vor allem geordnete Daten vorzuhalten. Besonders der *B-Tree* wird häufig in weit verbreiteten Datenbank- und Dateisystemen wie [MySQL](https://dev.mysql.com/doc/refman/8.0/en/glossary.html#glos_b_tree \"Oracle Corporation (2020): MySQL 8.0 Reference Manual/MySQL Glossary/B-tree\") oder [btrfs](https://btrfs.wiki.kernel.org/index.php/Btrfs_design \"The Linux Kernel Developers (2016): Btrfs design\") genutzt. Diese Baumstruktur ist geordnet und selbstbalancierend, das heißt, dass algorithmisch das Gleichgewicht im Baum gehalten wird – einführende Vorlesungen behandeln in diesem Zusammenhang oft den *AVL-Baum* oder auch den *Rot-Schwarz-Baum*.\n",
    "\n",
    "In dieser Arbeit wird eine andere Form des selbstbalancierenden geordneten Baums erläutert, der *Splay Tree*, der von [Sleator und Tarjan](http://www.cs.cmu.edu/~sleator/papers/self-adjusting.pdf \"D. D. Sleator, R. E. Tarjan (1985): Self-Adjusting Binary Search Trees. Journal of the ACM, 32(3) 652-686\") entwickelt wurde. Diese Struktur ist darauf optimiert, häufig verwendete Elemente nahe an der Wurzel zu halten. In der Anwendung werden darauf auf Basis dieser Bäume *geordnete Mengen* entwickelt. Die Implementierung ist in der Sprache Python gehalten und wird auch mit anderen, ebenfalls in Python implementierten Datenstrukturen verglichen. Mit Typoptimierungen, die jedoch kein pures Python mehr sind, wird auch der Vergleich zu Pythons eingebauten Mengen, die in C implementiert sind, gezogen."
   ]
  }
 ],
 "metadata": {
  "kernelspec": {
   "display_name": "Python 3",
   "language": "python",
   "name": "python3"
  },
  "language_info": {
   "codemirror_mode": {
    "name": "ipython",
    "version": 3
   },
   "file_extension": ".py",
   "mimetype": "text/x-python",
   "name": "python",
   "nbconvert_exporter": "python",
   "pygments_lexer": "ipython3",
   "version": "3.7.7"
  }
 },
 "nbformat": 4,
 "nbformat_minor": 4
}
