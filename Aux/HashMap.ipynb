{
 "cells": [
  {
   "cell_type": "code",
   "execution_count": 1,
   "metadata": {},
   "outputs": [
    {
     "data": {
      "application/javascript": [
       "IPython.notebook.set_autosave_interval(0)"
      ]
     },
     "metadata": {},
     "output_type": "display_data"
    },
    {
     "name": "stdout",
     "output_type": "stream",
     "text": [
      "Autosave disabled\n"
     ]
    },
    {
     "data": {
      "text/html": [
       "<style>.container { width:100%; !important } </style>"
      ],
      "text/plain": [
       "<IPython.core.display.HTML object>"
      ]
     },
     "metadata": {},
     "output_type": "display_data"
    }
   ],
   "source": [
    "%autosave 0\n",
    "from IPython.core.display import HTML, display\n",
    "display(HTML('<style>.container { width:100%; !important } </style>'))"
   ]
  },
  {
   "cell_type": "markdown",
   "metadata": {},
   "source": [
    "# Hash Tables (Open Hashing)"
   ]
  },
  {
   "cell_type": "markdown",
   "metadata": {},
   "source": [
    "Given a word $w$ and the size $n$ of the hash table, the function $\\texttt{hash_code}(w, n)$ calculates the hash code of $w$.  For a word \n",
    "$w = c_0c_1\\cdots c_{m-1}$ of length $m$, this function is defined as follows:\n",
    "$$ \\texttt{hash_code}(w, n) = \\left(\\sum\\limits_{i=0}^{m-1} \\texttt{ord}(c_i) \\cdot 128^i\\right) \\;\\texttt{%}\\; n  $$\n",
    "In order to prevent overflows when computing the numbers $128^i$ we can define the partial sum $s_k$ for\n",
    "$k=0,1,\\cdots,m-1$ by induction: \n",
    "  - $s_{0} = \\texttt{ord}(c_{m-1}) \\;\\texttt{%}\\; n$,\n",
    "  - $s_{k+1} = \\bigl(s_k \\cdot 128 + \\texttt{ord}(c_{k}) \\bigr) \\;\\texttt{%}\\; n$.\n",
    "\n",
    "Then we have\n",
    "$$ s_{m-1} = \\left(\\sum\\limits_{i=0}^{m-1} \\texttt{ord}(c_i) \\cdot 128^i\\right) \\;\\texttt{%}\\; n. $$"
   ]
  },
  {
   "cell_type": "code",
   "execution_count": 2,
   "metadata": {},
   "outputs": [],
   "source": [
    "def hash_code(w, n):\n",
    "    m = len(w)\n",
    "    s = 0\n",
    "    for k in range(m-1, -1, -1):\n",
    "        s = (s * 128 + ord(w[k])) % n\n",
    "    return s"
   ]
  },
  {
   "cell_type": "markdown",
   "metadata": {},
   "source": [
    "Let us test this function."
   ]
  },
  {
   "cell_type": "code",
   "execution_count": 3,
   "metadata": {},
   "outputs": [
    {
     "data": {
      "text/plain": [
       "4187"
      ]
     },
     "execution_count": 3,
     "metadata": {},
     "output_type": "execute_result"
    }
   ],
   "source": [
    "hash_code('George W. Bush', 6761)"
   ]
  },
  {
   "cell_type": "code",
   "execution_count": 4,
   "metadata": {},
   "outputs": [],
   "source": [
    "class HashTable:\n",
    "    def __init__(self, n):\n",
    "        self.mSize    = n\n",
    "        self.mEntries = 0  # number of entries\n",
    "        self.mArray   = [ [] for i in range(self.mSize) ]\n",
    "        self.mAlpha   = 2  # load factor"
   ]
  },
  {
   "cell_type": "markdown",
   "metadata": {},
   "source": [
    "Hash tables work best if their size is a prime number.  Therefore, the variable `Primes` stores a list of prime numbers.  \n",
    "These numbers are organized so that `Primes[i+1]` is roughly twice as big as `Primes[i]`."
   ]
  },
  {
   "cell_type": "code",
   "execution_count": 5,
   "metadata": {},
   "outputs": [],
   "source": [
    "HashTable.Primes = [ 3, 7, 13, 31, 61, 127, 251, 509, 1021, 2039, 4093, \n",
    "                     8191, 16381, 32749, 65521, 131071, 262139, 524287, \n",
    "                     1048573, 2097143, 4194301, 8388593, 16777213, \n",
    "                     33554393, 67108859, 134217689, 268435399, \n",
    "                     536870909, 1073741789, 2147483647 \n",
    "                   ]"
   ]
  },
  {
   "cell_type": "code",
   "execution_count": 6,
   "metadata": {},
   "outputs": [],
   "source": [
    "def find(self, key):\n",
    "    index = hash_code(key, self.mSize)\n",
    "    aList = self.mArray[index];\n",
    "    for (k, v) in aList:\n",
    "        if k == key:\n",
    "            return v\n",
    "\n",
    "HashTable.find = find"
   ]
  },
  {
   "cell_type": "code",
   "execution_count": 7,
   "metadata": {},
   "outputs": [],
   "source": [
    "def insert(self, key, value):\n",
    "    if self.mEntries >= self.mSize * self.mAlpha:\n",
    "        print('mEntries =', self.mEntries, 'mSize =', self.mSize)\n",
    "        self._rehash()\n",
    "    index = hash_code(key, self.mSize)\n",
    "    aList = self.mArray[index]\n",
    "    for i, (k, v) in enumerate(aList):\n",
    "        if k == key:\n",
    "            aList[i] = (key, value) \n",
    "            return\n",
    "    self.mEntries += 1\n",
    "    aList.append((key, value))\n",
    "    \n",
    "HashTable.insert = insert"
   ]
  },
  {
   "cell_type": "code",
   "execution_count": 8,
   "metadata": {},
   "outputs": [],
   "source": [
    "def _rehash(self):\n",
    "    for p in HashTable.Primes:\n",
    "        if p * self.mAlpha > self.mEntries:\n",
    "            prime = p\n",
    "            break\n",
    "    biggerTable = HashTable(prime)\n",
    "    for aList in self.mArray:\n",
    "        for k, v in aList:\n",
    "            biggerTable.insert(k, v)\n",
    "    self.mSize  = prime\n",
    "    self.mArray = biggerTable.mArray\n",
    "    \n",
    "HashTable._rehash = _rehash"
   ]
  },
  {
   "cell_type": "code",
   "execution_count": 9,
   "metadata": {},
   "outputs": [],
   "source": [
    "def delete(self, key):\n",
    "    index = hash_code(key, self.mSize)\n",
    "    aList = self.mArray[index]\n",
    "    for i, (k, v) in enumerate(aList):\n",
    "        if k == key:\n",
    "            aList.pop(i)\n",
    "            self.mEntries -= 1\n",
    "            return \n",
    "\n",
    "HashTable.delete = delete"
   ]
  },
  {
   "cell_type": "code",
   "execution_count": 10,
   "metadata": {},
   "outputs": [],
   "source": [
    "def __repr__(self):\n",
    "    result = ''\n",
    "    for i, aList in enumerate(self.mArray):\n",
    "        result += f'{i}: {aList}\\n'\n",
    "    return result\n",
    "\n",
    "HashTable.__repr__ = __repr__"
   ]
  },
  {
   "cell_type": "code",
   "execution_count": 11,
   "metadata": {},
   "outputs": [
    {
     "data": {
      "text/plain": [
       "0: [('Adrian', 8)]\n",
       "1: []\n",
       "2: []"
      ]
     },
     "execution_count": 11,
     "metadata": {},
     "output_type": "execute_result"
    }
   ],
   "source": [
    "t = HashTable(3)\n",
    "t.insert('Adrian', 8)\n",
    "t"
   ]
  },
  {
   "cell_type": "code",
   "execution_count": 12,
   "metadata": {},
   "outputs": [
    {
     "data": {
      "text/plain": [
       "0: [('Adrian', 8), ('Benjamin', 24)]\n",
       "1: []\n",
       "2: []"
      ]
     },
     "execution_count": 12,
     "metadata": {},
     "output_type": "execute_result"
    }
   ],
   "source": [
    "t.insert('Benjamin', 24)\n",
    "t"
   ]
  },
  {
   "cell_type": "code",
   "execution_count": 13,
   "metadata": {},
   "outputs": [
    {
     "data": {
      "text/plain": [
       "0: [('Adrian', 8), ('Benjamin', 24)]\n",
       "1: [('Bereket', 1)]\n",
       "2: []"
      ]
     },
     "execution_count": 13,
     "metadata": {},
     "output_type": "execute_result"
    }
   ],
   "source": [
    "t.insert('Bereket', 1)\n",
    "t"
   ]
  },
  {
   "cell_type": "code",
   "execution_count": 14,
   "metadata": {},
   "outputs": [
    {
     "data": {
      "text/plain": [
       "0: [('Adrian', 8), ('Benjamin', 24)]\n",
       "1: [('Bereket', 1)]\n",
       "2: [('Christian', 13)]"
      ]
     },
     "execution_count": 14,
     "metadata": {},
     "output_type": "execute_result"
    }
   ],
   "source": [
    "t.insert('Christian', 13)\n",
    "t"
   ]
  },
  {
   "cell_type": "code",
   "execution_count": 15,
   "metadata": {},
   "outputs": [
    {
     "data": {
      "text/plain": [
       "0: [('Adrian', 8), ('Benjamin', 24)]\n",
       "1: [('Bereket', 1)]\n",
       "2: [('Christian', 14)]"
      ]
     },
     "execution_count": 15,
     "metadata": {},
     "output_type": "execute_result"
    }
   ],
   "source": [
    "t.insert('Christian', 14)\n",
    "t"
   ]
  },
  {
   "cell_type": "code",
   "execution_count": 16,
   "metadata": {},
   "outputs": [
    {
     "data": {
      "text/plain": [
       "(8, 14, 24)"
      ]
     },
     "execution_count": 16,
     "metadata": {},
     "output_type": "execute_result"
    }
   ],
   "source": [
    "t.find('Adrian'), t.find('Christian'), t.find('Benjamin')"
   ]
  },
  {
   "cell_type": "code",
   "execution_count": 17,
   "metadata": {},
   "outputs": [
    {
     "data": {
      "text/plain": [
       "0: [('Adrian', 8), ('Benjamin', 24), ('David', 22)]\n",
       "1: [('Bereket', 1)]\n",
       "2: [('Christian', 14)]"
      ]
     },
     "execution_count": 17,
     "metadata": {},
     "output_type": "execute_result"
    }
   ],
   "source": [
    "t.insert('David', 22)\n",
    "t"
   ]
  },
  {
   "cell_type": "code",
   "execution_count": 18,
   "metadata": {},
   "outputs": [
    {
     "data": {
      "text/plain": [
       "0: [('Adrian', 8), ('Benjamin', 24), ('David', 22), ('Ephraim', 19)]\n",
       "1: [('Bereket', 1)]\n",
       "2: [('Christian', 14)]"
      ]
     },
     "execution_count": 18,
     "metadata": {},
     "output_type": "execute_result"
    }
   ],
   "source": [
    "t.insert('Ephraim', 19)\n",
    "t"
   ]
  },
  {
   "cell_type": "code",
   "execution_count": 19,
   "metadata": {},
   "outputs": [
    {
     "name": "stdout",
     "output_type": "stream",
     "text": [
      "mEntries = 6 mSize = 3\n"
     ]
    },
    {
     "data": {
      "text/plain": [
       "0: []\n",
       "1: [('Christian', 14)]\n",
       "2: []\n",
       "3: [('David', 22)]\n",
       "4: [('Adrian', 8)]\n",
       "5: [('Benjamin', 24), ('Bereket', 1)]\n",
       "6: [('Ephraim', 19), ('Erwin', 26)]"
      ]
     },
     "execution_count": 19,
     "metadata": {},
     "output_type": "execute_result"
    }
   ],
   "source": [
    "t.insert('Erwin', 26)\n",
    "t"
   ]
  },
  {
   "cell_type": "code",
   "execution_count": 20,
   "metadata": {},
   "outputs": [
    {
     "data": {
      "text/plain": [
       "0: []\n",
       "1: [('Christian', 14)]\n",
       "2: []\n",
       "3: [('David', 22)]\n",
       "4: [('Adrian', 8)]\n",
       "5: [('Benjamin', 24), ('Bereket', 1)]\n",
       "6: [('Ephraim', 19), ('Erwin', 26), ('Felix', 4)]"
      ]
     },
     "execution_count": 20,
     "metadata": {},
     "output_type": "execute_result"
    }
   ],
   "source": [
    "t.insert('Felix', 4)\n",
    "t"
   ]
  },
  {
   "cell_type": "code",
   "execution_count": 21,
   "metadata": {},
   "outputs": [
    {
     "data": {
      "text/plain": [
       "0: []\n",
       "1: [('Christian', 14)]\n",
       "2: []\n",
       "3: [('David', 22)]\n",
       "4: [('Adrian', 8)]\n",
       "5: [('Benjamin', 24), ('Bereket', 1), ('Florian', 9)]\n",
       "6: [('Ephraim', 19), ('Erwin', 26), ('Felix', 4)]"
      ]
     },
     "execution_count": 21,
     "metadata": {},
     "output_type": "execute_result"
    }
   ],
   "source": [
    "t.insert('Florian', 9)\n",
    "t"
   ]
  },
  {
   "cell_type": "code",
   "execution_count": 22,
   "metadata": {},
   "outputs": [
    {
     "data": {
      "text/plain": [
       "0: []\n",
       "1: [('Christian', 14), ('Giorgio', 20)]\n",
       "2: []\n",
       "3: [('David', 22)]\n",
       "4: [('Adrian', 8)]\n",
       "5: [('Benjamin', 24), ('Bereket', 1), ('Florian', 9)]\n",
       "6: [('Ephraim', 19), ('Erwin', 26), ('Felix', 4)]"
      ]
     },
     "execution_count": 22,
     "metadata": {},
     "output_type": "execute_result"
    }
   ],
   "source": [
    "t.insert('Giorgio', 20)\n",
    "t"
   ]
  },
  {
   "cell_type": "code",
   "execution_count": 23,
   "metadata": {},
   "outputs": [
    {
     "data": {
      "text/plain": [
       "0: []\n",
       "1: [('Christian', 14), ('Giorgio', 20), ('Jan', 7)]\n",
       "2: []\n",
       "3: [('David', 22)]\n",
       "4: [('Adrian', 8)]\n",
       "5: [('Benjamin', 24), ('Bereket', 1), ('Florian', 9)]\n",
       "6: [('Ephraim', 19), ('Erwin', 26), ('Felix', 4)]"
      ]
     },
     "execution_count": 23,
     "metadata": {},
     "output_type": "execute_result"
    }
   ],
   "source": [
    "t.insert('Jan', 7)\n",
    "t"
   ]
  },
  {
   "cell_type": "code",
   "execution_count": 24,
   "metadata": {},
   "outputs": [
    {
     "data": {
      "text/plain": [
       "0: [('Janis', 16)]\n",
       "1: [('Christian', 14), ('Giorgio', 20), ('Jan', 7)]\n",
       "2: []\n",
       "3: [('David', 22)]\n",
       "4: [('Adrian', 8)]\n",
       "5: [('Benjamin', 24), ('Bereket', 1), ('Florian', 9)]\n",
       "6: [('Ephraim', 19), ('Erwin', 26), ('Felix', 4)]"
      ]
     },
     "execution_count": 24,
     "metadata": {},
     "output_type": "execute_result"
    }
   ],
   "source": [
    "t.insert('Janis', 16)\n",
    "t"
   ]
  },
  {
   "cell_type": "code",
   "execution_count": 25,
   "metadata": {},
   "outputs": [
    {
     "data": {
      "text/plain": [
       "0: [('Janis', 16)]\n",
       "1: [('Christian', 14), ('Giorgio', 20), ('Jan', 7)]\n",
       "2: []\n",
       "3: [('David', 22)]\n",
       "4: [('Adrian', 8)]\n",
       "5: [('Benjamin', 24), ('Bereket', 1), ('Florian', 9), ('Josia', 18)]\n",
       "6: [('Ephraim', 19), ('Erwin', 26), ('Felix', 4)]"
      ]
     },
     "execution_count": 25,
     "metadata": {},
     "output_type": "execute_result"
    }
   ],
   "source": [
    "t.insert('Josia', 18)\n",
    "t"
   ]
  },
  {
   "cell_type": "code",
   "execution_count": 26,
   "metadata": {},
   "outputs": [
    {
     "data": {
      "text/plain": [
       "0: [('Janis', 16)]\n",
       "1: [('Christian', 14), ('Giorgio', 20), ('Jan', 7)]\n",
       "2: []\n",
       "3: [('David', 22), ('Kai', 3)]\n",
       "4: [('Adrian', 8)]\n",
       "5: [('Benjamin', 24), ('Bereket', 1), ('Florian', 9), ('Josia', 18)]\n",
       "6: [('Ephraim', 19), ('Erwin', 26), ('Felix', 4)]"
      ]
     },
     "execution_count": 26,
     "metadata": {},
     "output_type": "execute_result"
    }
   ],
   "source": [
    "t.insert('Kai', 3)\n",
    "t"
   ]
  },
  {
   "cell_type": "code",
   "execution_count": 27,
   "metadata": {},
   "outputs": [
    {
     "name": "stdout",
     "output_type": "stream",
     "text": [
      "mEntries = 14 mSize = 7\n"
     ]
    },
    {
     "data": {
      "text/plain": [
       "0: []\n",
       "1: [('Giorgio', 20), ('David', 22), ('Benjamin', 24)]\n",
       "2: [('Kai', 3), ('Erwin', 26), ('Felix', 4)]\n",
       "3: [('Lars', 21)]\n",
       "4: []\n",
       "5: []\n",
       "6: [('Ephraim', 19)]\n",
       "7: [('Janis', 16)]\n",
       "8: [('Christian', 14), ('Jan', 7), ('Bereket', 1)]\n",
       "9: [('Adrian', 8)]\n",
       "10: [('Florian', 9), ('Josia', 18)]\n",
       "11: []\n",
       "12: []"
      ]
     },
     "execution_count": 27,
     "metadata": {},
     "output_type": "execute_result"
    }
   ],
   "source": [
    "t.insert('Lars', 21)\n",
    "t"
   ]
  },
  {
   "cell_type": "code",
   "execution_count": 28,
   "metadata": {},
   "outputs": [
    {
     "data": {
      "text/plain": [
       "0: []\n",
       "1: [('Giorgio', 20), ('David', 22), ('Benjamin', 24)]\n",
       "2: [('Kai', 3), ('Erwin', 26), ('Felix', 4), ('Lucas', 0)]\n",
       "3: [('Lars', 21)]\n",
       "4: []\n",
       "5: []\n",
       "6: [('Ephraim', 19)]\n",
       "7: [('Janis', 16)]\n",
       "8: [('Christian', 14), ('Jan', 7), ('Bereket', 1)]\n",
       "9: [('Adrian', 8)]\n",
       "10: [('Florian', 9), ('Josia', 18)]\n",
       "11: []\n",
       "12: []"
      ]
     },
     "execution_count": 28,
     "metadata": {},
     "output_type": "execute_result"
    }
   ],
   "source": [
    "t.insert('Lucas', 0)\n",
    "t"
   ]
  },
  {
   "cell_type": "code",
   "execution_count": 29,
   "metadata": {},
   "outputs": [
    {
     "data": {
      "text/plain": [
       "0: []\n",
       "1: [('Giorgio', 20), ('David', 22), ('Benjamin', 24)]\n",
       "2: [('Kai', 3), ('Erwin', 26), ('Felix', 4), ('Lucas', 0)]\n",
       "3: [('Lars', 21)]\n",
       "4: []\n",
       "5: []\n",
       "6: [('Ephraim', 19)]\n",
       "7: [('Janis', 16)]\n",
       "8: [('Christian', 14), ('Jan', 7), ('Bereket', 1), ('Marcel', 5)]\n",
       "9: [('Adrian', 8)]\n",
       "10: [('Florian', 9), ('Josia', 18)]\n",
       "11: []\n",
       "12: []"
      ]
     },
     "execution_count": 29,
     "metadata": {},
     "output_type": "execute_result"
    }
   ],
   "source": [
    "t.insert('Marcel', 5)\n",
    "t"
   ]
  },
  {
   "cell_type": "code",
   "execution_count": 30,
   "metadata": {},
   "outputs": [
    {
     "data": {
      "text/plain": [
       "0: []\n",
       "1: [('Giorgio', 20), ('David', 22), ('Benjamin', 24)]\n",
       "2: [('Kai', 3), ('Erwin', 26), ('Felix', 4), ('Lucas', 0)]\n",
       "3: [('Lars', 21)]\n",
       "4: []\n",
       "5: [('Marius', 6)]\n",
       "6: [('Ephraim', 19)]\n",
       "7: [('Janis', 16)]\n",
       "8: [('Christian', 14), ('Jan', 7), ('Bereket', 1), ('Marcel', 5)]\n",
       "9: [('Adrian', 8)]\n",
       "10: [('Florian', 9), ('Josia', 18)]\n",
       "11: []\n",
       "12: []"
      ]
     },
     "execution_count": 30,
     "metadata": {},
     "output_type": "execute_result"
    }
   ],
   "source": [
    "t.insert('Marius', 6)\n",
    "t"
   ]
  },
  {
   "cell_type": "code",
   "execution_count": 31,
   "metadata": {},
   "outputs": [
    {
     "data": {
      "text/plain": [
       "0: []\n",
       "1: [('Giorgio', 20), ('David', 22), ('Benjamin', 24)]\n",
       "2: [('Kai', 3), ('Erwin', 26), ('Felix', 4), ('Lucas', 0), ('Markus', 17)]\n",
       "3: [('Lars', 21)]\n",
       "4: []\n",
       "5: [('Marius', 6)]\n",
       "6: [('Ephraim', 19)]\n",
       "7: [('Janis', 16)]\n",
       "8: [('Christian', 14), ('Jan', 7), ('Bereket', 1), ('Marcel', 5)]\n",
       "9: [('Adrian', 8)]\n",
       "10: [('Florian', 9), ('Josia', 18)]\n",
       "11: []\n",
       "12: []"
      ]
     },
     "execution_count": 31,
     "metadata": {},
     "output_type": "execute_result"
    }
   ],
   "source": [
    "t.insert('Markus', 17)\n",
    "t"
   ]
  },
  {
   "cell_type": "code",
   "execution_count": 32,
   "metadata": {},
   "outputs": [
    {
     "data": {
      "text/plain": [
       "0: []\n",
       "1: [('Giorgio', 20), ('David', 22), ('Benjamin', 24), ('Matthias', 10)]\n",
       "2: [('Kai', 3), ('Erwin', 26), ('Felix', 4), ('Lucas', 0), ('Markus', 17)]\n",
       "3: [('Lars', 21)]\n",
       "4: []\n",
       "5: [('Marius', 6)]\n",
       "6: [('Ephraim', 19)]\n",
       "7: [('Janis', 16)]\n",
       "8: [('Christian', 14), ('Jan', 7), ('Bereket', 1), ('Marcel', 5)]\n",
       "9: [('Adrian', 8)]\n",
       "10: [('Florian', 9), ('Josia', 18)]\n",
       "11: []\n",
       "12: []"
      ]
     },
     "execution_count": 32,
     "metadata": {},
     "output_type": "execute_result"
    }
   ],
   "source": [
    "t.insert('Matthias', 10)\n",
    "t"
   ]
  },
  {
   "cell_type": "code",
   "execution_count": 33,
   "metadata": {},
   "outputs": [
    {
     "data": {
      "text/plain": [
       "0: []\n",
       "1: [('Giorgio', 20), ('David', 22), ('Benjamin', 24), ('Matthias', 10)]\n",
       "2: [('Kai', 3), ('Erwin', 26), ('Felix', 4), ('Lucas', 0), ('Markus', 17)]\n",
       "3: [('Lars', 21)]\n",
       "4: []\n",
       "5: [('Marius', 6)]\n",
       "6: [('Ephraim', 19), ('Nick', 11)]\n",
       "7: [('Janis', 16)]\n",
       "8: [('Christian', 14), ('Jan', 7), ('Bereket', 1), ('Marcel', 5)]\n",
       "9: [('Adrian', 8)]\n",
       "10: [('Florian', 9), ('Josia', 18)]\n",
       "11: []\n",
       "12: []"
      ]
     },
     "execution_count": 33,
     "metadata": {},
     "output_type": "execute_result"
    }
   ],
   "source": [
    "t.insert('Nick', 11)\n",
    "t"
   ]
  },
  {
   "cell_type": "code",
   "execution_count": 34,
   "metadata": {},
   "outputs": [
    {
     "data": {
      "text/plain": [
       "0: []\n",
       "1: [('Giorgio', 20), ('David', 22), ('Benjamin', 24), ('Matthias', 10), ('Patrick', 23)]\n",
       "2: [('Kai', 3), ('Erwin', 26), ('Felix', 4), ('Lucas', 0), ('Markus', 17)]\n",
       "3: [('Lars', 21)]\n",
       "4: []\n",
       "5: [('Marius', 6)]\n",
       "6: [('Ephraim', 19), ('Nick', 11)]\n",
       "7: [('Janis', 16)]\n",
       "8: [('Christian', 14), ('Jan', 7), ('Bereket', 1), ('Marcel', 5)]\n",
       "9: [('Adrian', 8)]\n",
       "10: [('Florian', 9), ('Josia', 18)]\n",
       "11: []\n",
       "12: []"
      ]
     },
     "execution_count": 34,
     "metadata": {},
     "output_type": "execute_result"
    }
   ],
   "source": [
    "t.insert('Patrick', 23)\n",
    "t"
   ]
  },
  {
   "cell_type": "code",
   "execution_count": 35,
   "metadata": {},
   "outputs": [
    {
     "data": {
      "text/plain": [
       "0: []\n",
       "1: [('Giorgio', 20), ('David', 22), ('Benjamin', 24), ('Matthias', 10), ('Patrick', 23)]\n",
       "2: [('Kai', 3), ('Erwin', 26), ('Felix', 4), ('Lucas', 0), ('Markus', 17)]\n",
       "3: [('Lars', 21)]\n",
       "4: []\n",
       "5: [('Marius', 6)]\n",
       "6: [('Ephraim', 19), ('Nick', 11)]\n",
       "7: [('Janis', 16), ('Petra', 27)]\n",
       "8: [('Christian', 14), ('Jan', 7), ('Bereket', 1), ('Marcel', 5)]\n",
       "9: [('Adrian', 8)]\n",
       "10: [('Florian', 9), ('Josia', 18)]\n",
       "11: []\n",
       "12: []"
      ]
     },
     "execution_count": 35,
     "metadata": {},
     "output_type": "execute_result"
    }
   ],
   "source": [
    "t.insert('Petra', 27)\n",
    "t"
   ]
  },
  {
   "cell_type": "code",
   "execution_count": 36,
   "metadata": {},
   "outputs": [
    {
     "data": {
      "text/plain": [
       "0: []\n",
       "1: [('Giorgio', 20), ('David', 22), ('Benjamin', 24), ('Matthias', 10), ('Patrick', 23)]\n",
       "2: [('Kai', 3), ('Erwin', 26), ('Felix', 4), ('Lucas', 0), ('Markus', 17)]\n",
       "3: [('Lars', 21)]\n",
       "4: []\n",
       "5: [('Marius', 6)]\n",
       "6: [('Ephraim', 19), ('Nick', 11), ('Rene', 15)]\n",
       "7: [('Janis', 16), ('Petra', 27)]\n",
       "8: [('Christian', 14), ('Jan', 7), ('Bereket', 1), ('Marcel', 5)]\n",
       "9: [('Adrian', 8)]\n",
       "10: [('Florian', 9), ('Josia', 18)]\n",
       "11: []\n",
       "12: []"
      ]
     },
     "execution_count": 36,
     "metadata": {},
     "output_type": "execute_result"
    }
   ],
   "source": [
    "t.insert('Rene', 15)\n",
    "t"
   ]
  },
  {
   "cell_type": "code",
   "execution_count": 37,
   "metadata": {},
   "outputs": [
    {
     "data": {
      "text/plain": [
       "0: []\n",
       "1: [('Giorgio', 20), ('David', 22), ('Benjamin', 24), ('Matthias', 10), ('Patrick', 23)]\n",
       "2: [('Kai', 3), ('Erwin', 26), ('Felix', 4), ('Lucas', 0), ('Markus', 17)]\n",
       "3: [('Lars', 21)]\n",
       "4: [('Sebastian', 25)]\n",
       "5: [('Marius', 6)]\n",
       "6: [('Ephraim', 19), ('Nick', 11), ('Rene', 15)]\n",
       "7: [('Janis', 16), ('Petra', 27)]\n",
       "8: [('Christian', 14), ('Jan', 7), ('Bereket', 1), ('Marcel', 5)]\n",
       "9: [('Adrian', 8)]\n",
       "10: [('Florian', 9), ('Josia', 18)]\n",
       "11: []\n",
       "12: []"
      ]
     },
     "execution_count": 37,
     "metadata": {},
     "output_type": "execute_result"
    }
   ],
   "source": [
    "t.insert('Sebastian', 25)\n",
    "t"
   ]
  },
  {
   "cell_type": "code",
   "execution_count": 38,
   "metadata": {},
   "outputs": [
    {
     "data": {
      "text/plain": [
       "0: []\n",
       "1: [('Giorgio', 20), ('David', 22), ('Benjamin', 24), ('Matthias', 10), ('Patrick', 23)]\n",
       "2: [('Kai', 3), ('Erwin', 26), ('Felix', 4), ('Lucas', 0), ('Markus', 17)]\n",
       "3: [('Lars', 21)]\n",
       "4: [('Sebastian', 25)]\n",
       "5: [('Marius', 6)]\n",
       "6: [('Ephraim', 19), ('Nick', 11), ('Rene', 15), ('Stefan', 2)]\n",
       "7: [('Janis', 16), ('Petra', 27)]\n",
       "8: [('Christian', 14), ('Jan', 7), ('Bereket', 1), ('Marcel', 5)]\n",
       "9: [('Adrian', 8)]\n",
       "10: [('Florian', 9), ('Josia', 18)]\n",
       "11: []\n",
       "12: []"
      ]
     },
     "execution_count": 38,
     "metadata": {},
     "output_type": "execute_result"
    }
   ],
   "source": [
    "t.insert('Stefan', 2)\n",
    "t"
   ]
  },
  {
   "cell_type": "code",
   "execution_count": 39,
   "metadata": {},
   "outputs": [
    {
     "data": {
      "text/plain": [
       "0: []\n",
       "1: [('Giorgio', 20), ('David', 22), ('Benjamin', 24), ('Matthias', 10), ('Patrick', 23)]\n",
       "2: [('Kai', 3), ('Erwin', 26), ('Felix', 4), ('Lucas', 0), ('Markus', 17)]\n",
       "3: [('Lars', 21)]\n",
       "4: [('Sebastian', 25)]\n",
       "5: [('Marius', 6)]\n",
       "6: [('Ephraim', 19), ('Nick', 11), ('Rene', 15), ('Stefan', 2)]\n",
       "7: [('Janis', 16), ('Petra', 27)]\n",
       "8: [('Christian', 14), ('Jan', 7), ('Bereket', 1), ('Marcel', 5)]\n",
       "9: []\n",
       "10: [('Florian', 9), ('Josia', 18)]\n",
       "11: []\n",
       "12: []"
      ]
     },
     "execution_count": 39,
     "metadata": {},
     "output_type": "execute_result"
    }
   ],
   "source": [
    "t.delete('Adrian')\n",
    "t"
   ]
  },
  {
   "cell_type": "code",
   "execution_count": 40,
   "metadata": {},
   "outputs": [
    {
     "data": {
      "text/plain": [
       "0: []\n",
       "1: []\n",
       "2: []\n",
       "3: []\n",
       "4: []\n",
       "5: []\n",
       "6: []\n",
       "7: []\n",
       "8: []\n",
       "9: []\n",
       "10: []\n",
       "11: []\n",
       "12: []"
      ]
     },
     "execution_count": 40,
     "metadata": {},
     "output_type": "execute_result"
    }
   ],
   "source": [
    "t.delete('Adrian')\n",
    "t.delete('Benjamin')\n",
    "t.delete('Bereket')\n",
    "t.delete('Christian')\n",
    "t.delete('Christian')\n",
    "t.delete('David')\n",
    "t.delete('Ephraim')\n",
    "t.delete('Erwin')\n",
    "t.delete('Felix')\n",
    "t.delete('Florian')\n",
    "t.delete('Giorgio')\n",
    "t.delete('Jan')\n",
    "t.delete('Janis')\n",
    "t.delete('Josia')\n",
    "t.delete('Kai')\n",
    "t.delete('Lars')\n",
    "t.delete('Lucas')\n",
    "t.delete('Marcel')\n",
    "t.delete('Marius')\n",
    "t.delete('Markus')\n",
    "t.delete('Matthias')\n",
    "t.delete('Nick')\n",
    "t.delete('Patrick')\n",
    "t.delete('Petra')\n",
    "t.delete('Rene')\n",
    "t.delete('Sebastian')\n",
    "t.delete('Stefan')\n",
    "t"
   ]
  },
  {
   "cell_type": "code",
   "execution_count": null,
   "metadata": {},
   "outputs": [],
   "source": []
  }
 ],
 "metadata": {
  "kernelspec": {
   "display_name": "Python 3",
   "language": "python",
   "name": "python3"
  },
  "language_info": {
   "codemirror_mode": {
    "name": "ipython",
    "version": 3
   },
   "file_extension": ".py",
   "mimetype": "text/x-python",
   "name": "python",
   "nbconvert_exporter": "python",
   "pygments_lexer": "ipython3",
   "version": "3.7.6"
  }
 },
 "nbformat": 4,
 "nbformat_minor": 2
}
