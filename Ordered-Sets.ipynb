{
 "cells": [
  {
   "cell_type": "code",
   "execution_count": 1,
   "metadata": {},
   "outputs": [
    {
     "data": {
      "text/html": [
       "<style>.container{width:100%;}</style>\n"
      ],
      "text/plain": [
       "<IPython.core.display.HTML object>"
      ]
     },
     "metadata": {},
     "output_type": "display_data"
    }
   ],
   "source": [
    "%%HTML \n",
    "<style>.container{width:100%;}</style>"
   ]
  },
  {
   "cell_type": "markdown",
   "metadata": {},
   "source": [
    "Dieses Notebook hängt vom Notebook `Splay-Trees` ab."
   ]
  },
  {
   "cell_type": "code",
   "execution_count": 2,
   "metadata": {},
   "outputs": [
    {
     "data": {
      "text/html": [
       "<style>.container{width:100%;}</style>\n"
      ],
      "text/plain": [
       "<IPython.core.display.HTML object>"
      ]
     },
     "metadata": {},
     "output_type": "display_data"
    }
   ],
   "source": [
    "%run Splay-Trees.ipynb"
   ]
  },
  {
   "cell_type": "markdown",
   "metadata": {},
   "source": [
    "# Mengen auf Basis von Splay Trees\n",
    "\n",
    "Wir benutzen nun die Splay Trees, um Mengen (`set`) in Python mit Ordnung zu unterstützen.\n",
    "\n",
    "Dazu bauen wir die hier gelisteten Methoden nach ([Permalink zur Datei, aus der dies generiert wird](https://github.com/python/cpython/blob/3.7/Objects/setobject.c \"R. D. Hettinger et al. (2019): cpython/Objects/setobject.c, GitHub\")):"
   ]
  },
  {
   "cell_type": "code",
   "execution_count": 3,
   "metadata": {
    "scrolled": true
   },
   "outputs": [
    {
     "name": "stdout",
     "output_type": "stream",
     "text": [
      "Help on class set in module builtins:\n",
      "\n",
      "class set(object)\n",
      " |  set() -> new empty set object\n",
      " |  set(iterable) -> new set object\n",
      " |  \n",
      " |  Build an unordered collection of unique elements.\n",
      " |  \n",
      " |  Methods defined here:\n",
      " |  \n",
      " |  __and__(self, value, /)\n",
      " |      Return self&value.\n",
      " |  \n",
      " |  __contains__(...)\n",
      " |      x.__contains__(y) <==> y in x.\n",
      " |  \n",
      " |  __eq__(self, value, /)\n",
      " |      Return self==value.\n",
      " |  \n",
      " |  __ge__(self, value, /)\n",
      " |      Return self>=value.\n",
      " |  \n",
      " |  __getattribute__(self, name, /)\n",
      " |      Return getattr(self, name).\n",
      " |  \n",
      " |  __gt__(self, value, /)\n",
      " |      Return self>value.\n",
      " |  \n",
      " |  __iand__(self, value, /)\n",
      " |      Return self&=value.\n",
      " |  \n",
      " |  __init__(self, /, *args, **kwargs)\n",
      " |      Initialize self.  See help(type(self)) for accurate signature.\n",
      " |  \n",
      " |  __ior__(self, value, /)\n",
      " |      Return self|=value.\n",
      " |  \n",
      " |  __isub__(self, value, /)\n",
      " |      Return self-=value.\n",
      " |  \n",
      " |  __iter__(self, /)\n",
      " |      Implement iter(self).\n",
      " |  \n",
      " |  __ixor__(self, value, /)\n",
      " |      Return self^=value.\n",
      " |  \n",
      " |  __le__(self, value, /)\n",
      " |      Return self<=value.\n",
      " |  \n",
      " |  __len__(self, /)\n",
      " |      Return len(self).\n",
      " |  \n",
      " |  __lt__(self, value, /)\n",
      " |      Return self<value.\n",
      " |  \n",
      " |  __ne__(self, value, /)\n",
      " |      Return self!=value.\n",
      " |  \n",
      " |  __or__(self, value, /)\n",
      " |      Return self|value.\n",
      " |  \n",
      " |  __rand__(self, value, /)\n",
      " |      Return value&self.\n",
      " |  \n",
      " |  __reduce__(...)\n",
      " |      Return state information for pickling.\n",
      " |  \n",
      " |  __repr__(self, /)\n",
      " |      Return repr(self).\n",
      " |  \n",
      " |  __ror__(self, value, /)\n",
      " |      Return value|self.\n",
      " |  \n",
      " |  __rsub__(self, value, /)\n",
      " |      Return value-self.\n",
      " |  \n",
      " |  __rxor__(self, value, /)\n",
      " |      Return value^self.\n",
      " |  \n",
      " |  __sizeof__(...)\n",
      " |      S.__sizeof__() -> size of S in memory, in bytes\n",
      " |  \n",
      " |  __sub__(self, value, /)\n",
      " |      Return self-value.\n",
      " |  \n",
      " |  __xor__(self, value, /)\n",
      " |      Return self^value.\n",
      " |  \n",
      " |  add(...)\n",
      " |      Add an element to a set.\n",
      " |      \n",
      " |      This has no effect if the element is already present.\n",
      " |  \n",
      " |  clear(...)\n",
      " |      Remove all elements from this set.\n",
      " |  \n",
      " |  copy(...)\n",
      " |      Return a shallow copy of a set.\n",
      " |  \n",
      " |  difference(...)\n",
      " |      Return the difference of two or more sets as a new set.\n",
      " |      \n",
      " |      (i.e. all elements that are in this set but not the others.)\n",
      " |  \n",
      " |  difference_update(...)\n",
      " |      Remove all elements of another set from this set.\n",
      " |  \n",
      " |  discard(...)\n",
      " |      Remove an element from a set if it is a member.\n",
      " |      \n",
      " |      If the element is not a member, do nothing.\n",
      " |  \n",
      " |  intersection(...)\n",
      " |      Return the intersection of two sets as a new set.\n",
      " |      \n",
      " |      (i.e. all elements that are in both sets.)\n",
      " |  \n",
      " |  intersection_update(...)\n",
      " |      Update a set with the intersection of itself and another.\n",
      " |  \n",
      " |  isdisjoint(...)\n",
      " |      Return True if two sets have a null intersection.\n",
      " |  \n",
      " |  issubset(...)\n",
      " |      Report whether another set contains this set.\n",
      " |  \n",
      " |  issuperset(...)\n",
      " |      Report whether this set contains another set.\n",
      " |  \n",
      " |  pop(...)\n",
      " |      Remove and return an arbitrary set element.\n",
      " |      Raises KeyError if the set is empty.\n",
      " |  \n",
      " |  remove(...)\n",
      " |      Remove an element from a set; it must be a member.\n",
      " |      \n",
      " |      If the element is not a member, raise a KeyError.\n",
      " |  \n",
      " |  symmetric_difference(...)\n",
      " |      Return the symmetric difference of two sets as a new set.\n",
      " |      \n",
      " |      (i.e. all elements that are in exactly one of the sets.)\n",
      " |  \n",
      " |  symmetric_difference_update(...)\n",
      " |      Update a set with the symmetric difference of itself and another.\n",
      " |  \n",
      " |  union(...)\n",
      " |      Return the union of sets as a new set.\n",
      " |      \n",
      " |      (i.e. all elements that are in either set.)\n",
      " |  \n",
      " |  update(...)\n",
      " |      Update a set with the union of itself and others.\n",
      " |  \n",
      " |  ----------------------------------------------------------------------\n",
      " |  Static methods defined here:\n",
      " |  \n",
      " |  __new__(*args, **kwargs) from builtins.type\n",
      " |      Create and return a new object.  See help(type) for accurate signature.\n",
      " |  \n",
      " |  ----------------------------------------------------------------------\n",
      " |  Data and other attributes defined here:\n",
      " |  \n",
      " |  __hash__ = None\n",
      "\n"
     ]
    }
   ],
   "source": [
    "help(set)"
   ]
  },
  {
   "cell_type": "markdown",
   "metadata": {},
   "source": [
    "Wir definieren dafür die Klasse `OrderedSet`."
   ]
  },
  {
   "cell_type": "code",
   "execution_count": 4,
   "metadata": {},
   "outputs": [],
   "source": [
    "class OrderedSet():\n",
    "    pass"
   ]
  },
  {
   "cell_type": "markdown",
   "metadata": {},
   "source": [
    "## Konstruktion\n",
    "\n",
    "Wenn wir das Konstruieren eines Sets aus einem `iterable` unterstützen wollen, begegnen wir dem Problem der Implementierung von Mengen modifizierbarer Objekte, zum Beispiel Mengen von Mengen.\n",
    "\n",
    "Sei $N$ eine Menge und $M$ ein modifizierbares Objekt, zum Beispiel eine Menge, und sei $M \\in N$. Wie stellen wir sicher, dass $N$ geordnet bleibt, wenn $M$ geändert wird? Wir könnten verlangen, dass in $N$ ein Element, wann immer es preisgegeben wird, neu einsortiert werden muss. Abgesehen vom damit verbundenen Berechnungsaufwand ist dies aber nicht praktikabel, da auf $M$ auch Referenzen gehalten werden können, die nicht von $N$ abhängig sind, und somit $M$ geändert werden könnte, ohne dass $N$ davon erfährt. (Die $N$-seitige Überwachung aller gehaltenen Objekte wäre noch unpraktischer als das erneute Einsortieren.)\n",
    "\n",
    "Ein vergleichbares Problem ergibt sich übrigens auch bei den Hashtabellen in der Referenzimplementierung CPython. Hier kann keine Ordnungsbedingung verletzt werden, jedoch ist im Allgemeinen ein Objekt nach Änderung nicht mehr unter ihrem vorigen Hash zu finden. Der Python-Standard gibt daher vor, dass es strenggenommen keine Mengen von Mengen gibt – [es gibt nur Mengen von unmodifizierbaren Mengen](https://docs.python.org/3.7/library/stdtypes.html#set \"Python Software Foundation (2019): The Python Standard Library/Built-in Types/set, Python Documentation\"), den `frozenset`s. Ebenso gibt es beispielsweise keine Mengen von Listen.\n",
    "\n",
    "Wir wollen auch die `frozenset`s geordnet haben und werden sie parallel mitimplementieren."
   ]
  },
  {
   "cell_type": "code",
   "execution_count": 5,
   "metadata": {},
   "outputs": [],
   "source": [
    "class OrderedFrozenset():\n",
    "    pass"
   ]
  },
  {
   "cell_type": "markdown",
   "metadata": {},
   "source": [
    "Wir übernehmen `_arb_lt`, `_arb_eq` und `_arb_gt` von `Node`, sodass wir direkt Zugriff darauf haben."
   ]
  },
  {
   "cell_type": "code",
   "execution_count": 6,
   "metadata": {},
   "outputs": [],
   "source": [
    "OrderedSet._arb_lt = OrderedFrozenset._arb_lt = Node._arb_lt\n",
    "OrderedSet._arb_eq = OrderedFrozenset._arb_eq = Node._arb_eq\n",
    "OrderedSet._arb_gt = OrderedFrozenset._arb_gt = Node._arb_gt"
   ]
  },
  {
   "cell_type": "markdown",
   "metadata": {},
   "source": [
    "Konstruieren wir nun eine Menge aus einem `iterable`, so fügen wir die Elemente einzeln ein. Wir arbeiten direkt mit `Node`s, wrappen also nicht noch zusätzlich einen `SplayTree`. Wir überprüfen dabei die hinzuzufügenden Elemente darauf, ob sie in einer Menge existieren dürfen, indem wir überprüfen, ob sie eine `__hash__`-Methode haben."
   ]
  },
  {
   "cell_type": "code",
   "execution_count": 7,
   "metadata": {},
   "outputs": [],
   "source": [
    "def __init__(self, iterable=[]):\n",
    "    if isinstance(self, OrderedFrozenset) and hasattr(self, \"_tree\"):\n",
    "        return  # frozenset was already created\n",
    "    self._tree = None\n",
    "    iterator = iter(iterable)\n",
    "    try:\n",
    "        element = next(iterator)\n",
    "        if not element.__hash__:\n",
    "            raise TypeError(f\"unhashable type: '{type(element).__name__}'\")\n",
    "        self._tree = Node(element, None, None)\n",
    "        while True:\n",
    "            element = next(iterator)\n",
    "            if not element.__hash__:\n",
    "                raise TypeError(\"unhashable type: \" +\n",
    "                                f\"'{type(element).__name__}'\")\n",
    "            self._tree = self._tree.insert(element)\n",
    "    except StopIteration:\n",
    "        pass\n",
    "\n",
    "OrderedSet.__init__ = OrderedFrozenset.__init__ = __init__\n",
    "del __init__"
   ]
  },
  {
   "cell_type": "markdown",
   "metadata": {},
   "source": [
    "### Lexikographische Ordnung\n",
    "\n",
    "Wir müssen, wenn wir geordnete Mengen von geordneten Mengen unterstützen wollen, die totalen Ordnungen `<` und `>` sowie die Operation `==` zwischen geordneten Mengen definieren – diese Operatoren werden von `_arb_lt` und verwandten Methoden und somit mittelbar von `splay` benutzt. Wir müssen dabei leider das Verhalten von `set` und `frozenset` verändern; für diese drücken `<` und `>` die echte Ober- bzw. Teilmenge aus. Alternativ könnten wir in `_arb_lt` und verwandten Methoden vorher den Typ überprüfen und im Fall von `OrderedSet` und `OrderedFrozenset` nicht `<` und `>`, sondern andere Methoden verwenden. Die damit verbundenen Performanceeinbußen sind jedoch nicht vertretbar.\n",
    "\n",
    "Eine totale Ordnung, die sich anbietet, ist die lexikographische Ordnung. Hier wird durch die Mengen iteriert und das erste ungleiche Wertepaar entscheidet die Ungleichheit. Wir definieren dafür zunächst die Iteration `__iter__`, um durch die Elemente in der Menge iterieren zu können.\n",
    "\n",
    "Dies erreichen wir, indem wir den Baum wie bei einer *Inorder*-Ausgabe durchlaufen, wobei wir zur Ausgabe das Keyword `yield` benutzen. Die Implementierung ist iterativ und hält sich einen eigenen Stapel, da dieser in seiner Größe weniger begrenzt ist als der Aufrufstapel, der sich bei einer rekursiven Implementierung aufbauen würde. Für diesen Stapel benutzen wir [`deque`](https://docs.python.org/3.7/library/collections.html#collections.deque \"Python Software Foundation (2019): The Python Standard Library/Data Types/collections/deque, Python Documentation\") (double-ended queue) aus den `collections` der Standard Library, da sich diese für größere Stapel besser eignet als die Liste."
   ]
  },
  {
   "cell_type": "code",
   "execution_count": 8,
   "metadata": {},
   "outputs": [],
   "source": [
    "def __iter__(self):\n",
    "    stack = deque()\n",
    "    tree = self._tree\n",
    "    while stack or tree is not None:\n",
    "        if tree is not None:\n",
    "            stack.append(tree)\n",
    "            tree = tree.left\n",
    "            continue\n",
    "        tree = stack.pop()\n",
    "        yield tree.payload\n",
    "        tree = tree.right\n",
    "\n",
    "OrderedSet.__iter__ = OrderedFrozenset.__iter__ = __iter__\n",
    "del __iter__"
   ]
  },
  {
   "cell_type": "markdown",
   "metadata": {},
   "source": [
    "Nun können wir (für `<`) die Methode `__lt__` mit lexikographischer Ordnung definieren. Wir werfen bei Typinkompatibilität den `TypeError`, mit dem `_arb_lt` und verwandte Methoden bei Typinkompatibilitäten umgehen."
   ]
  },
  {
   "cell_type": "code",
   "execution_count": 9,
   "metadata": {},
   "outputs": [],
   "source": [
    "def __lt__(self, other):\n",
    "    if (not isinstance(other, OrderedSet)\n",
    "            and not isinstance(other, OrderedFrozenset)):\n",
    "        raise TypeError(\"'<' not supported between instances of \" +\n",
    "                        f\"'{type(self).__name__}' and \" +\n",
    "                        f\"'{type(other).__name__}'\")\n",
    "    x_iter, y_iter = iter(self), iter(other)\n",
    "    while True:\n",
    "        try:\n",
    "            y_item = next(y_iter)\n",
    "        except StopIteration:\n",
    "            return False  # x is longer or equal\n",
    "        try:\n",
    "            x_item = next(x_iter)\n",
    "        except StopIteration:\n",
    "            return True  # x is shorter\n",
    "        if self._arb_lt(x_item, y_item):\n",
    "            return True\n",
    "        if self._arb_gt(x_item, y_item):\n",
    "            return False\n",
    "\n",
    "OrderedSet.__lt__ = OrderedFrozenset.__lt__ = __lt__\n",
    "del __lt__"
   ]
  },
  {
   "cell_type": "markdown",
   "metadata": {},
   "source": [
    "Ähnlich definieren wir `__gt__` für `>`."
   ]
  },
  {
   "cell_type": "code",
   "execution_count": 10,
   "metadata": {},
   "outputs": [],
   "source": [
    "def __gt__(self, other):\n",
    "    if (not isinstance(other, OrderedSet)\n",
    "            and not isinstance(other, OrderedFrozenset)):\n",
    "        raise TypeError(\"'>' not supported between instances of \" +\n",
    "                        f\"'{type(self).__name__}' and \" +\n",
    "                        f\"'{type(other).__name__}'\")\n",
    "    x_iter, y_iter = iter(self), iter(other)\n",
    "    while True:\n",
    "        try:\n",
    "            x_item = next(x_iter)\n",
    "        except StopIteration:\n",
    "            return False  # x is shorter or equal\n",
    "        try:\n",
    "            y_item = next(y_iter)\n",
    "        except StopIteration:\n",
    "            return True  # x is longer\n",
    "        if self._arb_gt(x_item, y_item):\n",
    "            return True\n",
    "        if self._arb_lt(x_item, y_item):\n",
    "            return False\n",
    "\n",
    "OrderedSet.__gt__ = OrderedFrozenset.__gt__ = __gt__\n",
    "del __gt__"
   ]
  },
  {
   "cell_type": "markdown",
   "metadata": {},
   "source": [
    "Für `__eq__` (`==`) müssen wir nur Element für Element vergleichen. Wir verändern hier auch nicht das Verhalten im Vergleich zu den Vorbildern `set` und `frozenset`. Hier ist  der Vergleich mit fremden Typen kein `TypeError`, sondern einfach die Ungleichheit. "
   ]
  },
  {
   "cell_type": "code",
   "execution_count": 11,
   "metadata": {},
   "outputs": [],
   "source": [
    "def __eq__(self, other):\n",
    "    if (not isinstance(other, OrderedSet)\n",
    "            and not isinstance(other, OrderedFrozenset)):\n",
    "        return False\n",
    "    x_iter, y_iter = iter(self), iter(other)\n",
    "    while True:\n",
    "        try:\n",
    "            x_item = next(x_iter)\n",
    "        except StopIteration:\n",
    "            try:  # assert y is also exhausted\n",
    "                next(y_iter)\n",
    "            except StopIteration:\n",
    "                return True\n",
    "            return False\n",
    "        try:\n",
    "            y_item = next(y_iter)\n",
    "        except StopIteration:\n",
    "            return False  # x was not exhausted\n",
    "        if not self._arb_eq(x_item, y_item):\n",
    "            return False\n",
    "\n",
    "OrderedSet.__eq__ = OrderedFrozenset.__eq__ = __eq__\n",
    "del __eq__"
   ]
  },
  {
   "cell_type": "markdown",
   "metadata": {},
   "source": [
    "Wir definieren an dieser Stelle noch `__ne__` (`!=`), bei dem wir nur das Ergebnis von `==` invertieren."
   ]
  },
  {
   "cell_type": "code",
   "execution_count": 12,
   "metadata": {},
   "outputs": [],
   "source": [
    "def __ne__(self, other):\n",
    "    return not self == other\n",
    "\n",
    "OrderedSet.__ne__ = OrderedFrozenset.__ne__ = __ne__\n",
    "del __ne__"
   ]
  },
  {
   "cell_type": "markdown",
   "metadata": {},
   "source": [
    "### Hashen\n",
    "\n",
    "Der letzte Schritt, um `OrderedFrozenset`s in `OrderedSet`s haben zu können, ist die Unterstützung einer `__hash__`-Funktion für `OrderedFrozenset` (`OrderedSet` ist wegen seiner Veränderlichkeit bewusst **nicht** hashbar). Wir addieren dazu die Hashwerte aller Elemente, deren Hashbarkeit wir ja schon zur Zeit des Hinzufügens überprüft haben."
   ]
  },
  {
   "cell_type": "code",
   "execution_count": 13,
   "metadata": {},
   "outputs": [],
   "source": [
    "def __hash__(self):\n",
    "    return sum(hash(element) for element in self)\n",
    "\n",
    "OrderedFrozenset.__hash__ = __hash__\n",
    "del __hash__"
   ]
  },
  {
   "cell_type": "markdown",
   "metadata": {},
   "source": [
    "Um das Verhalten von Python abzubilden, werfen wir im Fall von `OrderedSet` einen `TypeError`, wenn versucht wird, eines zu hashen."
   ]
  },
  {
   "cell_type": "code",
   "execution_count": 14,
   "metadata": {},
   "outputs": [],
   "source": [
    "def __hash__(self):\n",
    "    raise TypeError(f\"unhashable type: '{type(self).__name__}'\")\n",
    "\n",
    "OrderedSet.__hash__ = __hash__\n",
    "del __hash__"
   ]
  },
  {
   "cell_type": "markdown",
   "metadata": {},
   "source": [
    "## Operationen mit einem Element\n",
    "\n",
    "Wir implementieren im Folgenden die Methoden von `set` und `frozenset` für `OrderedSet` und `OrderedFrozenset`. Wir beginnen mit den Operationen mit einem einzelnen Element als Parameter.\n",
    "\n",
    "### Hinzufügen\n",
    "\n",
    "Wir implementieren `add`, das Hinzufügen eines Elements, ähnlich wie beim `SplayTree`:"
   ]
  },
  {
   "cell_type": "code",
   "execution_count": 15,
   "metadata": {},
   "outputs": [],
   "source": [
    "def add(self, element):\n",
    "    if not element.__hash__:\n",
    "        raise TypeError(f\"unhashable type: '{type(element).__name__}'\")\n",
    "    if self._tree is None:\n",
    "        self._tree = Node(element, None, None)\n",
    "    else:\n",
    "        self._tree = self._tree.insert(element)\n",
    "\n",
    "OrderedSet.add = add\n",
    "del add"
   ]
  },
  {
   "cell_type": "markdown",
   "metadata": {},
   "source": [
    "### Entfernen\n",
    "\n",
    "Das Gegenstück zu `add` ist `remove`, das Entfernen eines Elementes."
   ]
  },
  {
   "cell_type": "code",
   "execution_count": 16,
   "metadata": {},
   "outputs": [],
   "source": [
    "def remove(self, element):\n",
    "    if not element.__hash__ and not (isinstance(element, OrderedSet)\n",
    "                                     or isinstance(element, OrderedFrozenset)):\n",
    "        raise TypeError(f\"unhashable type: '{type(element).__name__}'\")\n",
    "    if self._tree is None:\n",
    "        raise KeyError(element)\n",
    "    rc, self._tree = self._tree.remove(element)\n",
    "    if not rc:\n",
    "        raise KeyError(element)\n",
    "\n",
    "OrderedSet.remove = remove\n",
    "del remove"
   ]
  },
  {
   "cell_type": "markdown",
   "metadata": {},
   "source": [
    "Wir implementieren auch `discard`, welches ähnlich zu `remove` ist, aber keinen Fehler verursacht, falls das Element nicht vorhanden ist."
   ]
  },
  {
   "cell_type": "code",
   "execution_count": 17,
   "metadata": {},
   "outputs": [],
   "source": [
    "def discard(self, element):\n",
    "    if not element.__hash__ and not (isinstance(element, OrderedSet)\n",
    "                                     or isinstance(element, OrderedFrozenset)):\n",
    "        raise TypeError(f\"unhashable type: '{type(element).__name__}'\")\n",
    "    if self._tree is not None:\n",
    "        _, self._tree = self._tree.remove(element)\n",
    "\n",
    "OrderedSet.discard = discard\n",
    "del discard"
   ]
  },
  {
   "cell_type": "markdown",
   "metadata": {},
   "source": [
    "`add`, `remove` und `discard` sind **keine** Methoden von `OrderedFrozenset`, weil diese Operationen die Menge modifizieren!\n",
    "\n",
    "### Finden\n",
    "\n",
    "Eine nichtmodifizierende Operation mit einem Element als Parameter ist `__contains__` (`in`), die wir ebenfalls für `Node` schon implementiert haben."
   ]
  },
  {
   "cell_type": "code",
   "execution_count": 18,
   "metadata": {},
   "outputs": [],
   "source": [
    "def __contains__(self, element):\n",
    "    if not element.__hash__ and not (isinstance(element, OrderedSet)\n",
    "                                     or isinstance(element, OrderedFrozenset)):\n",
    "        raise TypeError(f\"unhashable type: '{type(element).__name__}'\")\n",
    "    if self._tree is None:\n",
    "        return False\n",
    "    contains, self._tree = self._tree.contains(element)\n",
    "    return contains\n",
    "\n",
    "OrderedSet.__contains__ = OrderedFrozenset.__contains__ = __contains__\n",
    "del __contains__"
   ]
  },
  {
   "cell_type": "markdown",
   "metadata": {},
   "source": [
    "## Operationen ohne Parameter\n",
    "\n",
    "Wir implementieren im Folgenden Operationen auf die geordnete Menge, die überhaupt keine Parameter haben. Wir beginnen wieder mit solchen, die die Menge verändern.\n",
    "\n",
    "### Kopieren\n",
    "\n",
    "Wir implementieren `copy`, welches eine Kopie der Menge zurückgibt."
   ]
  },
  {
   "cell_type": "code",
   "execution_count": 19,
   "metadata": {},
   "outputs": [],
   "source": [
    "def copy(self):\n",
    "    if isinstance(self, OrderedSet):\n",
    "        return OrderedSet(list(self))\n",
    "    return OrderedFrozenset(list(self))\n",
    "\n",
    "OrderedSet.copy = OrderedFrozenset.copy = copy\n",
    "del copy"
   ]
  },
  {
   "cell_type": "markdown",
   "metadata": {},
   "source": [
    "### Entfernen eines beliebigen Elements\n",
    "\n",
    "Wir implementieren `pop`, welches ein beliebiges Element entfernt und zurückgibt. Wir entfernen einfach die Wurzel des Baums."
   ]
  },
  {
   "cell_type": "code",
   "execution_count": 18,
   "metadata": {},
   "outputs": [],
   "source": [
    "def pop(self):\n",
    "    if self._tree is None:\n",
    "        raise KeyError(\"pop from an empty set\")\n",
    "    popped = self._tree.payload\n",
    "    self.remove(popped)\n",
    "    return popped\n",
    "\n",
    "OrderedSet.pop = pop\n",
    "del pop"
   ]
  },
  {
   "cell_type": "markdown",
   "metadata": {},
   "source": [
    "### Leeren\n",
    "\n",
    "Wir implementieren auch `clear`, welches alle Elemente aus der Menge entfernt. Wir setzen einfach den Baum auf `None`."
   ]
  },
  {
   "cell_type": "code",
   "execution_count": 19,
   "metadata": {},
   "outputs": [],
   "source": [
    "def clear(self):\n",
    "    self._tree = None\n",
    "\n",
    "OrderedSet.clear = clear\n",
    "del clear"
   ]
  },
  {
   "cell_type": "markdown",
   "metadata": {},
   "source": [
    "### Länge\n",
    "\n",
    "Wir kehren zurück zu den Operationen, die auch für `OrderedFrozenset` erlaubt sind, und implementieren `__len__`, welches die Länge von Mengen berechnet und dann mit `len(some_ordered_set)` benutzt werden kann."
   ]
  },
  {
   "cell_type": "code",
   "execution_count": 20,
   "metadata": {},
   "outputs": [],
   "source": [
    "def __len__(self):\n",
    "    length = 0\n",
    "    for el in self:\n",
    "        length += 1\n",
    "    return length\n",
    "\n",
    "OrderedSet.__len__ = OrderedFrozenset.__len__ = __len__\n",
    "del __len__"
   ]
  },
  {
   "cell_type": "markdown",
   "metadata": {},
   "source": [
    "### Darstellung\n",
    "\n",
    "Wir implementieren auch `__repr__`, welches eine String-Darstellung anbietet. Wir wollen zum Beispiel für die Elemente `a, b` die Darstellung `OrderedSet([a, b])` haben und implementieren:"
   ]
  },
  {
   "cell_type": "code",
   "execution_count": 21,
   "metadata": {},
   "outputs": [],
   "source": [
    "def __repr__(self):\n",
    "    return f\"{type(self).__name__}({list(self)})\"\n",
    "\n",
    "OrderedSet.__repr__ = OrderedFrozenset.__repr__ = __repr__\n",
    "del __repr__"
   ]
  },
  {
   "cell_type": "markdown",
   "metadata": {},
   "source": [
    "### Pickling\n",
    "\n",
    "`set` implementiert `__reduce__`, welches von der *pickle*-API aufgerufen wird. Diese API dient zur Serialisierung. Wir implementieren für diese API nicht `__reduce__`, sondern das simplere [`__getnewargs__`](https://docs.python.org/3/library/pickle.html#object.__getnewargs__ \"Python Software Foundation (2020): The Python Standard Library/Data Persistence/object.__getnewargs__(), Python Documentation\"), welches die Argumente, mit denen eine Rekonstruktion erreicht wird, zurückgibt. Wir geben den Mengeninhalt als Simpel aus einer Liste aus, sodass zum Beispiel für die Elemente `a, b` beim Deserialisieren  `OrderedSet([a, b],)` aufgerufen wird."
   ]
  },
  {
   "cell_type": "code",
   "execution_count": 22,
   "metadata": {},
   "outputs": [],
   "source": [
    "def __getnewargs__(self):\n",
    "    return (list(self),)\n",
    "\n",
    "OrderedSet.__getnewargs__ = OrderedFrozenset.__getnewargs__ = __getnewargs__\n",
    "del __getnewargs__"
   ]
  },
  {
   "cell_type": "markdown",
   "metadata": {},
   "source": [
    "### Minimum und Maximum\n",
    "\n",
    "Wir implementieren noch die *zusätzliche* Methode `minimum`. Mit `__iter__` funktioniert zwar bereits das Built-in `min`, wir können dies mit einem Baum aber effizienter gestalten: Wir geben die Nutzlast des linkesten Knotens zurück. Für `Node` definieren wir"
   ]
  },
  {
   "cell_type": "code",
   "execution_count": 23,
   "metadata": {},
   "outputs": [],
   "source": [
    "def minimum(self):\n",
    "    while self.left is not None:\n",
    "        self = self.left\n",
    "    return self.payload\n",
    "\n",
    "Node.minimum = minimum\n",
    "del minimum"
   ]
  },
  {
   "cell_type": "markdown",
   "metadata": {},
   "source": [
    "und für `OrderedSet` und `OrderedFrozenset`"
   ]
  },
  {
   "cell_type": "code",
   "execution_count": 24,
   "metadata": {},
   "outputs": [],
   "source": [
    "def minimum(self):\n",
    "    if self._tree is None:\n",
    "        raise ValueError(\"Set is empty\")\n",
    "    return self._tree.minimum()\n",
    "\n",
    "OrderedSet.minimum = OrderedFrozenset.minimum = minimum\n",
    "del minimum"
   ]
  },
  {
   "cell_type": "markdown",
   "metadata": {},
   "source": [
    "Wir implementieren auch `maximum`, bei der wir die Nutzlast des rechtesten Knotens zurückgeben."
   ]
  },
  {
   "cell_type": "code",
   "execution_count": 25,
   "metadata": {},
   "outputs": [],
   "source": [
    "def maximum(self):\n",
    "    while self.right is not None:\n",
    "        self = self.right\n",
    "    return self.payload\n",
    "\n",
    "Node.maximum = maximum\n",
    "del maximum"
   ]
  },
  {
   "cell_type": "markdown",
   "metadata": {},
   "source": [
    "und für die `Set`-Klassen"
   ]
  },
  {
   "cell_type": "code",
   "execution_count": 26,
   "metadata": {},
   "outputs": [],
   "source": [
    "def maximum(self):\n",
    "    if self._tree is None:\n",
    "        raise ValueError(\"Set is empty\")\n",
    "    return self._tree.maximum()\n",
    "\n",
    "OrderedSet.maximum = OrderedFrozenset.maximum = maximum\n",
    "del maximum"
   ]
  },
  {
   "cell_type": "markdown",
   "metadata": {},
   "source": [
    "## Boolesche Operationen auf andere Mengen\n",
    "\n",
    "Wir implementieren im Folgenden Operationen auf andere Mengen, die einen Wahrheitswert als Ergebnis haben. `==` und `!=` hatten wir schon für die lexikographische Ordnung implementiert.\n",
    "\n",
    "### Teilmenge\n",
    "\n",
    "Wir haben `issubset`, `__le__` (`<=`, in der Mengenlehre $\\subseteq$) und `__lt__` (`<`, in der Mengenlehre $\\subset$ bzw. $\\subsetneq$) zu implementieren. `issubset` arbeitet wie `__le__`, erlaubt aber einen beliebigen Parameter als Operand, statt nur Mengen. Wir werden die echte Teilmenge nicht unter dem Namen `<` implementieren können, weil wir diesen Operator für die lexikographische Ordnung benutzen. Wir werden dafür in Anlehnung an `issubset` die Methode `is_proper_subset` implementieren, die *keine* Methode von `set` oder `frozenset` ist.\n",
    "\n",
    "Für die unechte Teilmenge implementieren wir die Hilfsfunktion `_subseteq`, welches von geordneten Mengen $x, y$ die Relation $x \\subseteq y$ überprüft. So brauchen wir für die eigentlichen Methoden nur `_subseteq` mit den entsprechenden Parametern aufrufen. Dies erspart besonders für die Obermenge Arbeit.\n",
    "\n",
    "Hier gehen wir für jedes Element aus $x$ so lange in $y$ weiter, bis die Elemente gleich sind. In diesem Fall gehen wir in beiden Mengen ein Element weiter. Ist ein Element aus $y$ größer, so kam ein Element aus $x$ nicht in $y$ vor, und wir verneinen die Relation $\\subseteq$. Ist $x$ erschöpft, so waren alle Elemente in $y$. Ist $y$ erschöpft, so war mindestens ein Element von $x$ nicht in $y$."
   ]
  },
  {
   "cell_type": "code",
   "execution_count": 27,
   "metadata": {},
   "outputs": [],
   "source": [
    "def _subseteq(self, x, y):\n",
    "    x_iter, y_iter = iter(x), iter(y)\n",
    "    while True:\n",
    "        try:\n",
    "            x_item = next(x_iter)\n",
    "        except StopIteration:\n",
    "            return True\n",
    "        while True:\n",
    "            try:\n",
    "                y_item = next(y_iter)\n",
    "            except StopIteration:\n",
    "                return False\n",
    "            if self._arb_lt(x_item, y_item):\n",
    "                return False\n",
    "            if self._arb_eq(x_item, y_item):\n",
    "                break\n",
    "\n",
    "OrderedSet._subseteq = OrderedFrozenset._subseteq = _subseteq\n",
    "del _subseteq"
   ]
  },
  {
   "cell_type": "markdown",
   "metadata": {},
   "source": [
    "So können wir `issubset` implementieren, wo wir das andere Iterable gegebenenfalls in ein `OrderedFrozenset` bringen und so sortieren."
   ]
  },
  {
   "cell_type": "code",
   "execution_count": 28,
   "metadata": {},
   "outputs": [],
   "source": [
    "def issubset(self, other):\n",
    "    if type(other) not in (OrderedSet, OrderedFrozenset):\n",
    "        other = OrderedFrozenset(other)\n",
    "    return self._subseteq(self, other)\n",
    "\n",
    "OrderedSet.issubset = OrderedFrozenset.issubset = issubset\n",
    "del issubset"
   ]
  },
  {
   "cell_type": "markdown",
   "metadata": {},
   "source": [
    "Bei `__le__` erlauben wir für den anderen Operanden nur `OrderedSet` und `OrderedFrozenset`."
   ]
  },
  {
   "cell_type": "code",
   "execution_count": 31,
   "metadata": {},
   "outputs": [],
   "source": [
    "def __le__(self, other):\n",
    "    if (not isinstance(other, OrderedSet)\n",
    "            and not isinstance(other, OrderedFrozenset)):\n",
    "        raise TypeError(\"'<=' not supported between instances of \" +\n",
    "                        f\"'{type(self).__name__}' and \" +\n",
    "                        f\"'{type(other).__name__}'\")\n",
    "    return self._subseteq(self, other)\n",
    "\n",
    "OrderedSet.__le__ = OrderedFrozenset.__le__ = __le__\n",
    "del __le__"
   ]
  },
  {
   "cell_type": "markdown",
   "metadata": {},
   "source": [
    "Für `is_proper_subset` und später `is_proper_superset` definieren wir `_subsetneq`, welches $x \\subset y$ überprüft. Hier halten wir uns die auf `False` initialisierte Variable `proper_subset`, mit deren Hilfe wir sicherstellen, dass $x$ eine echte Teilmenge von $y$ ist. Sie wird auf `True` gesetzt, sobald ein Element aus $y$ kleiner ist als aus $x$. Ist $x$ erschöpft und `proper_subset` nicht `True`, so prüfen wir, ob noch Elemente in $y$ sind, dann ist ebenfalls $x \\subset y$."
   ]
  },
  {
   "cell_type": "code",
   "execution_count": 30,
   "metadata": {},
   "outputs": [],
   "source": [
    "def _subsetneq(self, x, y):\n",
    "    x_iter, y_iter = iter(x), iter(y)\n",
    "    proper_subset = False\n",
    "    while True:\n",
    "        try:\n",
    "            x_item = next(x_iter)\n",
    "        except StopIteration:\n",
    "            if not proper_subset:\n",
    "                try:  # assert y is not exhausted\n",
    "                    next(y_iter)\n",
    "                except StopIteration:\n",
    "                    return False\n",
    "            return True\n",
    "        while True:\n",
    "            try:\n",
    "                y_item = next(y_iter)\n",
    "            except StopIteration:\n",
    "                return False\n",
    "            if self._arb_lt(x_item, y_item):\n",
    "                return False\n",
    "            if self._arb_gt(x_item, y_item):\n",
    "                proper_subset = True\n",
    "            else:\n",
    "                break\n",
    "\n",
    "OrderedSet._subsetneq = OrderedFrozenset._subsetneq = _subsetneq\n",
    "del _subsetneq"
   ]
  },
  {
   "cell_type": "markdown",
   "metadata": {},
   "source": [
    "So können wir `is_proper_subset` ähnlich wie `issubset` implementieren."
   ]
  },
  {
   "cell_type": "code",
   "execution_count": 31,
   "metadata": {},
   "outputs": [],
   "source": [
    "def is_proper_subset(self, other):\n",
    "    if type(other) not in (OrderedSet, OrderedFrozenset):\n",
    "        other = OrderedSet(other)\n",
    "    return self._subsetneq(self, other)\n",
    "\n",
    "OrderedSet.is_proper_subset = is_proper_subset\n",
    "OrderedFrozenset.is_proper_subset = is_proper_subset\n",
    "del is_proper_subset"
   ]
  },
  {
   "cell_type": "markdown",
   "metadata": {},
   "source": [
    "### Obermenge\n",
    "\n",
    "Wir können für die Obermenge jetzt `_subseteq` und `_subsetneq` wiederverwenden und müssen nur die Parameter ändern. Analog zur den Operationen für die Untermenge haben wir `issuperset`…"
   ]
  },
  {
   "cell_type": "code",
   "execution_count": 32,
   "metadata": {},
   "outputs": [],
   "source": [
    "def issuperset(self, other):\n",
    "    if type(other) not in (OrderedSet, OrderedFrozenset):\n",
    "        other = OrderedSet(other)\n",
    "    return self._subseteq(other, self)\n",
    "\n",
    "OrderedSet.issuperset = OrderedFrozenset.issuperset = issuperset\n",
    "del issuperset"
   ]
  },
  {
   "cell_type": "markdown",
   "metadata": {},
   "source": [
    "…`__ge__` (`>=`, in der Mengenlehre $\\supseteq$)…"
   ]
  },
  {
   "cell_type": "code",
   "execution_count": 35,
   "metadata": {},
   "outputs": [],
   "source": [
    "def __ge__(self, other):\n",
    "    if (not isinstance(other, OrderedSet)\n",
    "            and not isinstance(other, OrderedFrozenset)):\n",
    "        raise TypeError(\"'>=' not supported between instances of \" +\n",
    "                        f\"'{type(self).__name__}' and \" +\n",
    "                        f\"'{type(other).__name__}'\")\n",
    "    return self._subseteq(other, self)\n",
    "\n",
    "OrderedSet.__ge__ = OrderedFrozenset.__ge__ = __ge__\n",
    "del __ge__"
   ]
  },
  {
   "cell_type": "markdown",
   "metadata": {},
   "source": [
    "…und `is_proper_superset` statt `__gt__` (`>`, in der Mengenlehre $\\supset$ bzw. $\\supsetneq$)."
   ]
  },
  {
   "cell_type": "code",
   "execution_count": 34,
   "metadata": {},
   "outputs": [],
   "source": [
    "def is_proper_superset(self, other):\n",
    "    if type(other) not in (OrderedSet, OrderedFrozenset):\n",
    "        other = OrderedSet(other)\n",
    "    return self._subsetneq(other, self)\n",
    "\n",
    "OrderedSet.is_proper_superset = is_proper_superset\n",
    "OrderedFrozenset.is_proper_superset = is_proper_superset\n",
    "del is_proper_superset"
   ]
  },
  {
   "cell_type": "markdown",
   "metadata": {},
   "source": [
    "### Überprüfen, ob Mengen disjunkt sind\n",
    "\n",
    "Wir implementieren zuletzt `isdisjoint`, das überprüft, ob Mengen disjunkt sind, das heißt, ob sie keine gemeinsamen Elemente haben. Wir iterieren parallel durch die Mengen und überprüfen, dass wir jedes Element in nur einer Menge wiederfinden."
   ]
  },
  {
   "cell_type": "code",
   "execution_count": 35,
   "metadata": {},
   "outputs": [],
   "source": [
    "def isdisjoint(self, *args):\n",
    "    sets = [self] + [OrderedSet(x) if type(x) not in\n",
    "                     (OrderedSet, OrderedFrozenset) else x for x in args]\n",
    "    iters = {id(x): iter(x) for x in sets}\n",
    "    items = dict()\n",
    "    for k, v in iters.items():\n",
    "        try:\n",
    "            items[k] = next(v)\n",
    "        except StopIteration:\n",
    "            pass\n",
    "    while items:\n",
    "        minimum = None\n",
    "        min_id = None\n",
    "        for k, v in items.items():\n",
    "            if not minimum:\n",
    "                min_id = k\n",
    "                minimum = v\n",
    "                continue\n",
    "            if self._arb_eq(v, minimum):\n",
    "                return False\n",
    "            if self._arb_lt(v, minimum):\n",
    "                min_id = k\n",
    "                minimum = v\n",
    "        try:\n",
    "            items[min_id] = next(iters[min_id])\n",
    "        except StopIteration:\n",
    "            items.pop(min_id)\n",
    "    return True\n",
    "\n",
    "OrderedSet.isdisjoint = OrderedFrozenset.isdisjoint = isdisjoint\n",
    "del isdisjoint"
   ]
  },
  {
   "cell_type": "markdown",
   "metadata": {},
   "source": [
    "## Verknüpfung von Mengen\n",
    "\n",
    "Zuletzt implementieren wir die Operationen auf andere Mengen, die eine Menge als Ergebnis haben. Wir beginnen mit den einfacheren Vereinigungs- und Differenzmengen.\n",
    "\n",
    "### Vereinigungsmenge\n",
    "\n",
    "Bei Vereinigungsmengen ($\\cup$) fügen wir einfach alle Elmente hinzu. Zunächst definieren wir die Methode `union`."
   ]
  },
  {
   "cell_type": "code",
   "execution_count": 36,
   "metadata": {},
   "outputs": [],
   "source": [
    "def union(self, *args):\n",
    "    union = OrderedSet(self)\n",
    "    for arg in args:\n",
    "        for el in arg:\n",
    "            union.add(el)\n",
    "    if type(self) == OrderedFrozenset:\n",
    "        return OrderedFrozenset(union)\n",
    "    return union\n",
    "\n",
    "OrderedSet.union = OrderedFrozenset.union = union\n",
    "del union"
   ]
  },
  {
   "cell_type": "markdown",
   "metadata": {},
   "source": [
    "Wie für `intersection`, welches beliebig viele Iterable erlaubt, und für `__and__`, welches genau eine Menge erlaubt, haben wir jetzt entsprechend zu `union` das `__or__` (`|`)."
   ]
  },
  {
   "cell_type": "code",
   "execution_count": 39,
   "metadata": {},
   "outputs": [],
   "source": [
    "def __or__(self, other):\n",
    "    if isinstance(other, OrderedSet) or isinstance(other, OrderedFrozenset):\n",
    "        return self.union(other)\n",
    "    else:\n",
    "        raise TypeError(\"unsupported operand type(s) for |: \" +\n",
    "                        f\"'{type(self).__name__}' and \" +\n",
    "                        f\"'{type(other).__name__}'\")\n",
    "\n",
    "OrderedSet.__or__ = OrderedFrozenset.__or__ = __or__\n",
    "del __or__"
   ]
  },
  {
   "cell_type": "markdown",
   "metadata": {},
   "source": [
    "Das umgekehrte `__ror__` funktioniert wie `__or__`, abgesehen von der Fehlermeldung."
   ]
  },
  {
   "cell_type": "code",
   "execution_count": 40,
   "metadata": {},
   "outputs": [],
   "source": [
    "def __ror__(self, other):\n",
    "    if isinstance(other, OrderedSet) or isinstance(other, OrderedFrozenset):\n",
    "        return self.union(other)\n",
    "    else:\n",
    "        raise TypeError(\"unsupported operand type(s) for |: \" +\n",
    "                        f\"'{type(self).__name__}' and \" +\n",
    "                        f\"'{type(other).__name__}'\")\n",
    "\n",
    "OrderedSet.__ror__ = OrderedFrozenset.__ror__ = __ror__\n",
    "del __ror__"
   ]
  },
  {
   "cell_type": "markdown",
   "metadata": {},
   "source": [
    "*In-place* ist die `union` entsprechende Operation `update`. Hier operieren wir direkt auf `self`. Diese Methode ordnen wir nicht `OrderedFrozenset` zu, da die Menge überschrieben wird.\n",
    "\n",
    "und `__ior__` (`|=`). "
   ]
  },
  {
   "cell_type": "code",
   "execution_count": 39,
   "metadata": {},
   "outputs": [],
   "source": [
    "def update(self, *args):\n",
    "    for arg in args:\n",
    "        for el in arg:\n",
    "            self.add(el)\n",
    "\n",
    "OrderedSet.update = update\n",
    "del update"
   ]
  },
  {
   "cell_type": "markdown",
   "metadata": {},
   "source": [
    "Als Operator haben wir `__ior__` (`|=`)."
   ]
  },
  {
   "cell_type": "code",
   "execution_count": 42,
   "metadata": {},
   "outputs": [],
   "source": [
    "def __ior__(self, other):\n",
    "    if isinstance(other, OrderedSet) or isinstance(other, OrderedFrozenset):\n",
    "        self.update(other)\n",
    "        return self\n",
    "    else:\n",
    "        raise TypeError(\"unsupported operand type(s) for |=: \" +\n",
    "                        f\"'{type(self).__name__}' and \" +\n",
    "                        f\"'{type(other).__name__}'\")\n",
    "\n",
    "OrderedSet.__ior__ = __ior__\n",
    "del __ior__"
   ]
  },
  {
   "cell_type": "markdown",
   "metadata": {},
   "source": [
    "### Differenzmenge\n",
    "\n",
    "Es folgt die Differenzmenge ($\\setminus$), für die wir einfach alle Elemente entfernen. Dafür haben wir `difference`."
   ]
  },
  {
   "cell_type": "code",
   "execution_count": 41,
   "metadata": {},
   "outputs": [],
   "source": [
    "def difference(self, *others):\n",
    "    difference = OrderedSet(self)\n",
    "    for other in others:\n",
    "        for el in other:\n",
    "            if not el.__hash__:\n",
    "                raise TypeError(f\"unhashable type: '{type(el).__name__}'\")\n",
    "            difference.discard(el)\n",
    "    if type(self) == OrderedFrozenset:\n",
    "        return OrderedFrozenset(difference)\n",
    "    return difference\n",
    "\n",
    "OrderedSet.difference = OrderedFrozenset.difference = difference\n",
    "del difference"
   ]
  },
  {
   "cell_type": "markdown",
   "metadata": {},
   "source": [
    "Als Operator haben wir `__sub__`."
   ]
  },
  {
   "cell_type": "code",
   "execution_count": 44,
   "metadata": {},
   "outputs": [],
   "source": [
    "def __sub__(self, other):\n",
    "    if isinstance(other, OrderedSet) or isinstance(other, OrderedFrozenset):\n",
    "        return self.difference(other)\n",
    "    else:\n",
    "        raise TypeError(\"unsupported operand type(s) for -: \" +\n",
    "                        f\"'{type(self).__name__}' and \" +\n",
    "                        f\"'{type(other).__name__}'\")\n",
    "\n",
    "OrderedSet.__sub__ = OrderedFrozenset.__sub__ = __sub__\n",
    "del __sub__"
   ]
  },
  {
   "cell_type": "markdown",
   "metadata": {},
   "source": [
    "`__rsub__` allerdings verhält sich nicht kommutativ, sodass wir auch für den erfolgreichen Teil die Operanden umdrehen."
   ]
  },
  {
   "cell_type": "code",
   "execution_count": 45,
   "metadata": {},
   "outputs": [],
   "source": [
    "def __rsub__(self, other):\n",
    "    if isinstance(other, OrderedSet) or isinstance(other, OrderedFrozenset):\n",
    "        return other.difference(self)\n",
    "    else:\n",
    "        raise TypeError(\"unsupported operand type(s) for -: \" +\n",
    "                        f\"'{type(self).__name__}' and \" +\n",
    "                        f\"'{type(other).__name__}'\")\n",
    "\n",
    "OrderedSet.__rsub__ = OrderedFrozenset.__rsub__ = __rsub__\n",
    "del __rsub__"
   ]
  },
  {
   "cell_type": "markdown",
   "metadata": {},
   "source": [
    "In-place haben wir `difference_update`…"
   ]
  },
  {
   "cell_type": "code",
   "execution_count": 46,
   "metadata": {},
   "outputs": [],
   "source": [
    "def difference_update(self, *others):\n",
    "    for other in others:\n",
    "        for el in other:\n",
    "            if not el.__hash__:\n",
    "                raise TypeError(f\"unhashable type: '{type(el).__name__}'\")\n",
    "            self.discard(el)\n",
    "\n",
    "OrderedSet.difference_update = difference_update\n",
    "del difference_update"
   ]
  },
  {
   "cell_type": "markdown",
   "metadata": {},
   "source": [
    "…und `__isub__` (`-=`)."
   ]
  },
  {
   "cell_type": "code",
   "execution_count": 47,
   "metadata": {},
   "outputs": [],
   "source": [
    "def __isub__(self, other):\n",
    "    if isinstance(other, OrderedSet) or isinstance(other, OrderedFrozenset):\n",
    "        self.difference_update(other)\n",
    "        return self\n",
    "    else:\n",
    "        raise TypeError(\"unsupported operand type(s) for |=: \" +\n",
    "                        f\"'{type(self).__name__}' and \" +\n",
    "                        f\"'{type(other).__name__}'\")\n",
    "\n",
    "OrderedSet.__isub__ = __isub__\n",
    "del __isub__"
   ]
  },
  {
   "cell_type": "markdown",
   "metadata": {},
   "source": [
    "### Schnittmenge\n",
    "\n",
    "Komplexer sind `__and__` (`&`) und die verwandte `intersection`. Beide Methoden berechnen die Schnittmenge ($\\cap$) zweier Mengen, haben jedoch nicht ganz dasselbe Verhalten. `__and__` funktioniert nur mit Mengen, und operiert auf nur eine zusätzliche Menge; hingegen nimmt `intersection` beliebig viele iterable Sammlungen. Wir werden daher `intersection` implementieren und `__and__` mit seinen eigenen Begrenzungen `intersection` aufrufen lassen.\n",
    "\n",
    "Wir machen aus allen zu schneidenden Sammlungen `OrderedSet`s, falls sie nicht schon welche sind, und iterieren dann simultan durch diese Sammlungen, wobei wir von den simultan betrachteten Elementen immer alle wegwerfen, die kleiner als das Maximum der betrachteten Elemente sind, und genau dann ein Element in unsere neue Menge aufnehmen, wenn alle betrachteten Elemente gleich sind.\n",
    "\n",
    "Für das Maximum definieren wir `_arb_max`, um im Stil von `_arb_gt` ein Maximum aus beliebigen Elementen berechnen zu können."
   ]
  },
  {
   "cell_type": "code",
   "execution_count": 48,
   "metadata": {},
   "outputs": [],
   "source": [
    "def _arb_max(self, other, *others):\n",
    "    maximum = other\n",
    "    for el in others:\n",
    "        if self._arb_gt(el, other):\n",
    "            maximum = el\n",
    "    return maximum\n",
    "\n",
    "OrderedSet._arb_max = OrderedFrozenset._arb_max = _arb_max\n",
    "del _arb_max"
   ]
  },
  {
   "cell_type": "markdown",
   "metadata": {},
   "source": [
    "Nun können wir `intersection` definieren."
   ]
  },
  {
   "cell_type": "code",
   "execution_count": 47,
   "metadata": {},
   "outputs": [],
   "source": [
    "def intersection(self, *args):\n",
    "    sets = [self] + [OrderedSet(x) if type(x) not in\n",
    "                     (OrderedSet, OrderedFrozenset) else x for x in args]\n",
    "    iters = {id(x): iter(x) for x in sets}\n",
    "    intersection = OrderedSet()\n",
    "    try:\n",
    "        items = {k: next(v) for k, v in iters.items()}\n",
    "        while True:\n",
    "            max_of_items = self._arb_max(*items.values())\n",
    "            all_equal = True\n",
    "            for k, v in items.items():\n",
    "                if self._arb_lt(v, max_of_items):\n",
    "                    all_equal = False\n",
    "                    items[k] = next(iters[k])\n",
    "            if all_equal:\n",
    "                intersection.add(next(iter(items.values())))  # arbitrary item\n",
    "                items = {k: next(iters[k]) for k in items.keys()}\n",
    "    except StopIteration:\n",
    "        pass\n",
    "    if type(self) == OrderedFrozenset:\n",
    "        return OrderedFrozenset(intersection)\n",
    "    return intersection\n",
    "\n",
    "OrderedSet.intersection = OrderedFrozenset.intersection = intersection\n",
    "del intersection"
   ]
  },
  {
   "cell_type": "markdown",
   "metadata": {},
   "source": [
    "Für `__and__` begrenzen wir entsprechend die Eingabe."
   ]
  },
  {
   "cell_type": "code",
   "execution_count": 50,
   "metadata": {},
   "outputs": [],
   "source": [
    "def __and__(self, other):\n",
    "    if isinstance(other, OrderedSet) or isinstance(other, OrderedFrozenset):\n",
    "        return self.intersection(other)\n",
    "    else:\n",
    "        raise TypeError(\"unsupported operand type(s) for &: \" +\n",
    "                        f\"'{type(self).__name__}' and \" +\n",
    "                        f\"'{type(other).__name__}'\")\n",
    "\n",
    "\n",
    "OrderedSet.__and__ = OrderedFrozenset.__and__ = __and__\n",
    "del __and__"
   ]
  },
  {
   "cell_type": "markdown",
   "metadata": {},
   "source": [
    "Wir benötigen auch `__rand__` (reverse `__and__`), bei welchem die Operanden vertauscht sind. Die Operation $\\cap$ verhält sich jedoch kommutativ, weshalb in der Implementierung lediglich die Fehlermeldung beim `TypeError` von `__and__` verschieden ist."
   ]
  },
  {
   "cell_type": "code",
   "execution_count": 51,
   "metadata": {},
   "outputs": [],
   "source": [
    "def __rand__(self, other):\n",
    "    if isinstance(other, OrderedSet) or isinstance(other, OrderedFrozenset):\n",
    "        return self.intersection(other)\n",
    "    else:\n",
    "        raise TypeError(\"unsupported operand type(s) for &: \" +\n",
    "                        f\"'{type(self).__name__}' and \" +\n",
    "                        f\"'{type(other).__name__}'\")\n",
    "\n",
    "OrderedSet.__rand__ = OrderedFrozenset.__rand__ = __rand__\n",
    "del __rand__"
   ]
  },
  {
   "cell_type": "markdown",
   "metadata": {},
   "source": [
    "### Schnittmenge in-place\n",
    "\n",
    "Verwandt mit diesen Methoden sind `__iand__` (`&=`) und `intersection_update`, die die Schnittmenge *in-place* berechnen, das heißt, sie überschreiben die Menge direkt. Hier entfernen wir aus `self` alle Elemente, die nicht in allen übrigen Mengen zu finden sind. Wir iterieren parallel durch `self` und die anderen Mengen und entfernen ein Element aus `self`, sobald es in einer anderen Menge übersprungen wird. Weil der Baum fortlaufend geändert wird, ist `__iter__` für `self` ungeeignet. Wir iterieren daher, indem wir das Minimum splayen, und statt jedem `next` das Minimum aus dem rechten Teilbaum splayen. Somit ist der betrachtete Knoten immer die Wurzel.\n",
    "\n",
    "Gerade weil diese Methoden die Menge überschreiben, sind sie keine Methoden von `OrderedFrozenset`."
   ]
  },
  {
   "cell_type": "code",
   "execution_count": 50,
   "metadata": {},
   "outputs": [],
   "source": [
    "def intersection_update(self, *args):\n",
    "    if self._tree is None:\n",
    "        return\n",
    "    sets = [OrderedSet(x) if type(x) not in\n",
    "            (OrderedSet, OrderedFrozenset) else x for x in args]\n",
    "    iters = {id(x): iter(x) for x in sets}\n",
    "    try:\n",
    "        self._tree = self._tree._splay(self.minimum())\n",
    "        items = {k: next(v) for k, v in iters.items()}\n",
    "        while True:\n",
    "            if self._tree.right is None:\n",
    "                return  # self._tree is exhausted\n",
    "            all_equal = True\n",
    "            for k, v in items.items():\n",
    "                if self._tree._arb_lt(v, self._tree.payload):\n",
    "                    all_equal = False\n",
    "                    items[k] = next(iters[k])\n",
    "                elif self._tree._arb_gt(v, self._tree.payload):\n",
    "                    all_equal = False\n",
    "                    # next item in tree becomes root after deletion\n",
    "                    self.remove(self._tree.payload)\n",
    "                    if self._tree is None:\n",
    "                        return  # set is empty\n",
    "                    break  # break out of for loop since we have a new root\n",
    "            if all_equal:\n",
    "                # move on to next\n",
    "                self._tree = self._tree._splay(self._tree.right.minimum())\n",
    "    except StopIteration:\n",
    "        # remove all larger than largest kept item\n",
    "        self._tree.right = None\n",
    "\n",
    "OrderedSet.intersection_update = intersection_update\n",
    "del intersection_update"
   ]
  },
  {
   "cell_type": "markdown",
   "metadata": {},
   "source": [
    "Als Operator haben wir `__iand__`."
   ]
  },
  {
   "cell_type": "code",
   "execution_count": 53,
   "metadata": {},
   "outputs": [],
   "source": [
    "def __iand__(self, other):\n",
    "    if isinstance(other, OrderedSet) or isinstance(other, OrderedFrozenset):\n",
    "        self.intersection_update(other)\n",
    "        return self\n",
    "    else:\n",
    "        raise TypeError(\"unsupported operand type(s) for &=: \" +\n",
    "                        f\"'{type(self).__name__}' and \" +\n",
    "                        f\"'{type(other).__name__}'\")\n",
    "\n",
    "OrderedSet.__iand__ = __iand__\n",
    "del __iand__"
   ]
  },
  {
   "cell_type": "markdown",
   "metadata": {},
   "source": [
    "### Symmetrische Differenz\n",
    "\n",
    "Für die symmetrische Differenz ($\\bigtriangleup$) brauchen wir out-of-place `symmetric_difference`. Wir iterieren parallel durch die Mengen, berechnen dabei das Minimum unter den gerade betrachteten Elementen und speichern auch, welche Elemente dieses Minimum sind. Wenn dies genau ein Element war, so wird es in die Ergebnismenge aufgenommen, andernfalls gehen wir weiter."
   ]
  },
  {
   "cell_type": "code",
   "execution_count": 52,
   "metadata": {},
   "outputs": [],
   "source": [
    "def symmetric_difference(self, *args):\n",
    "    sets = [self] + [OrderedSet(x) if type(x) not in\n",
    "                     (OrderedSet, OrderedFrozenset) else x for x in args]\n",
    "    iters = {id(x): iter(x) for x in sets}\n",
    "    sdifference = OrderedSet()\n",
    "    items = dict()\n",
    "    for k, v in iters.items():\n",
    "        try:\n",
    "            items[k] = next(v)\n",
    "        except StopIteration:\n",
    "            pass\n",
    "    while items:\n",
    "        fwd = []  # items to be forwarded\n",
    "        for k, v in items.items():\n",
    "            if not v.__hash__:\n",
    "                raise TypeError(f\"unhashable type: '{type(v).__name__}'\")\n",
    "            if not fwd:\n",
    "                fwd.append((k, v))\n",
    "                continue\n",
    "            if self._arb_eq(v, fwd[0][1]):\n",
    "                fwd.append((k, v))\n",
    "                continue\n",
    "            if self._arb_lt(v, fwd[0][1]):\n",
    "                fwd.clear()\n",
    "                fwd.append((k, v))\n",
    "        if len(fwd) == 1:\n",
    "            sdifference.add(fwd[0][1])\n",
    "        for k, _ in fwd:\n",
    "            try:\n",
    "                items[k] = next(iters[k])\n",
    "            except StopIteration:\n",
    "                items.pop(k)\n",
    "    if type(self) == OrderedFrozenset:\n",
    "        return OrderedFrozenset(sdifference)\n",
    "    return sdifference\n",
    "\n",
    "OrderedSet.symmetric_difference = symmetric_difference\n",
    "OrderedFrozenset.symmetric_difference = symmetric_difference\n",
    "del symmetric_difference"
   ]
  },
  {
   "cell_type": "markdown",
   "metadata": {},
   "source": [
    "Als Operation haben wir `__xor__` (`^`)…"
   ]
  },
  {
   "cell_type": "code",
   "execution_count": 55,
   "metadata": {},
   "outputs": [],
   "source": [
    "def __xor__(self, other):\n",
    "    if isinstance(other, OrderedSet) or isinstance(other, OrderedFrozenset):\n",
    "        return self.symmetric_difference(other)\n",
    "    else:\n",
    "        raise TypeError(\"unsupported operand type(s) for ^: \" +\n",
    "                        f\"'{type(self).__name__}' and \" +\n",
    "                        f\"'{type(other).__name__}'\")\n",
    "\n",
    "OrderedSet.__xor__ = OrderedFrozenset.__xor__ = __xor__\n",
    "del __xor__"
   ]
  },
  {
   "cell_type": "markdown",
   "metadata": {},
   "source": [
    "…und umgekehrt `__rxor__`, wobei `^` sich kommutativ verhält."
   ]
  },
  {
   "cell_type": "code",
   "execution_count": 56,
   "metadata": {},
   "outputs": [],
   "source": [
    "def __rxor__(self, other):\n",
    "    if isinstance(other, OrderedSet) or isinstance(other, OrderedFrozenset):\n",
    "        return self.symmetric_difference(other)\n",
    "    else:\n",
    "        raise TypeError(\"unsupported operand type(s) for ^: \" +\n",
    "                        f\"'{type(self).__name__}' and \" +\n",
    "                        f\"'{type(other).__name__}'\")\n",
    "\n",
    "OrderedSet.__rxor__ = OrderedFrozenset.__rxor__ = __rxor__\n",
    "del __rxor__"
   ]
  },
  {
   "cell_type": "markdown",
   "metadata": {},
   "source": [
    "### Symmetrische Differenz in-place\n",
    "\n",
    "Wir gehen, wenn wir die symmetrische Differenz in-place, also überschreibend, berechnen, für die Argumente ähnlich wie bei out-of-place vor. Immer, wenn wir aus diesen Mengen einen Kandidaten gefunden haben, gehen wir durch den Baum von `self`, bis wir über den Verbleib des gefundenen Elementes entscheiden."
   ]
  },
  {
   "cell_type": "code",
   "execution_count": 55,
   "metadata": {},
   "outputs": [],
   "source": [
    "def symmetric_difference_update(self, *args):\n",
    "    if self._tree is None:\n",
    "        self = self.symmetric_difference(args)\n",
    "    sets = [OrderedSet(x) if type(x) not in\n",
    "            (OrderedSet, OrderedFrozenset) else x for x in args]\n",
    "    iters = {id(x): iter(x) for x in sets}\n",
    "    self._tree = self._tree._splay(self.minimum())\n",
    "    items = dict()\n",
    "    for k, v in iters.items():\n",
    "        try:\n",
    "            items[k] = next(v)\n",
    "        except StopIteration:\n",
    "            pass\n",
    "    while items:\n",
    "        fwd = []\n",
    "        for k, v in items.items():\n",
    "            if not fwd:\n",
    "                fwd.append((k, v))\n",
    "                continue\n",
    "            if self._tree._arb_eq(v, fwd[0][1]):\n",
    "                fwd.append((k, v))\n",
    "                continue\n",
    "            if self._tree._arb_lt(v, fwd[0][1]):\n",
    "                fwd.clear()\n",
    "                fwd.append((k, v))\n",
    "        if len(fwd) == 1:\n",
    "            iteration_done = False\n",
    "            while self._tree._arb_lt(self._tree.payload, fwd[0][1]):\n",
    "                self._tree = self._tree._splay(self._tree.right.minimum())\n",
    "                if self._tree.right is None:  # tree is exhausted\n",
    "                    self.add(fwd[0][1])\n",
    "                    iteration_done = True\n",
    "                    break\n",
    "            if not iteration_done:\n",
    "                if self._tree._arb_eq(self._tree.payload, fwd[0][1]):\n",
    "                    self.remove(self._tree.payload)\n",
    "                elif self._tree._arb_gt(self._tree.payload, fwd[0][1]):\n",
    "                    self.add(fwd[0][1])\n",
    "                    self._tree = self._tree._splay(self._tree.right.minimum())\n",
    "        for k, _ in fwd:\n",
    "            try:\n",
    "                items[k] = next(iters[k])\n",
    "            except StopIteration:\n",
    "                items.pop(k)\n",
    "\n",
    "OrderedSet.symmetric_difference_update = symmetric_difference_update\n",
    "del symmetric_difference_update"
   ]
  },
  {
   "cell_type": "markdown",
   "metadata": {},
   "source": [
    "Als Operation haben wir `__ixor__` (`^=`)."
   ]
  },
  {
   "cell_type": "code",
   "execution_count": 58,
   "metadata": {},
   "outputs": [],
   "source": [
    "def __ixor__(self, other):\n",
    "    if isinstance(other, OrderedSet) or isinstance(other, OrderedFrozenset):\n",
    "        self.symmetric_difference_update(other)\n",
    "        return self\n",
    "    else:\n",
    "        raise TypeError(\"unsupported operand type(s) for ^=: \" +\n",
    "                        f\"'{type(self).__name__}' and \" +\n",
    "                        f\"'{type(other).__name__}'\")\n",
    "\n",
    "OrderedSet.__ixor__ = OrderedFrozenset.__ixor__ = __ixor__\n",
    "del __ixor__"
   ]
  }
 ],
 "metadata": {
  "kernelspec": {
   "display_name": "Python 3",
   "language": "python",
   "name": "python3"
  },
  "language_info": {
   "codemirror_mode": {
    "name": "ipython",
    "version": 3
   },
   "file_extension": ".py",
   "mimetype": "text/x-python",
   "name": "python",
   "nbconvert_exporter": "python",
   "pygments_lexer": "ipython3",
   "version": "3.7.6"
  }
 },
 "nbformat": 4,
 "nbformat_minor": 2
}
