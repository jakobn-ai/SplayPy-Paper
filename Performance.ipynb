{
 "cells": [
  {
   "cell_type": "code",
   "execution_count": 1,
   "metadata": {},
   "outputs": [
    {
     "data": {
      "text/html": [
       "<style>.container{width:100%;}</style>\n"
      ],
      "text/plain": [
       "<IPython.core.display.HTML object>"
      ]
     },
     "metadata": {},
     "output_type": "display_data"
    }
   ],
   "source": [
    "%%HTML \n",
    "<style>.container{width:100%;}</style>"
   ]
  },
  {
   "cell_type": "markdown",
   "metadata": {},
   "source": [
    "Dieses Notebook hängt vom Notebook `Ordered-Sets` ab. Wir unterdrücken beim Ausführen die Ausgabe."
   ]
  },
  {
   "cell_type": "code",
   "execution_count": 2,
   "metadata": {},
   "outputs": [],
   "source": [
    "%%capture\n",
    "%run Ordered-Sets.ipynb"
   ]
  },
  {
   "cell_type": "markdown",
   "metadata": {},
   "source": [
    "## Anwendungsbeispiel: Sieb des Eratosthenes\n",
    "\n",
    "Als Anwendungsbeispiel benutzen wir das `OrderedSet`, um alle Primzahlen bis zu einem Maximum abzulegen. Die Primzahlen werden dabei mit dem Sieb des Eratosthenes berechnet. Die Implementierung ist sehr einfach gehalten und hat Raum für Optimierungen, aber das ist für den Vergleich mit `set` unproblematisch."
   ]
  },
  {
   "cell_type": "code",
   "execution_count": 3,
   "metadata": {},
   "outputs": [],
   "source": [
    "def splay_primes(n):\n",
    "    primes = OrderedSet(range(2, n + 1))\n",
    "    for i in range(2, n + 1):\n",
    "        for j in range(2 * i, n + 1, i):\n",
    "            primes.discard(j)\n",
    "    return primes"
   ]
  },
  {
   "cell_type": "markdown",
   "metadata": {},
   "source": [
    "Wir berechnen probeweise die Primzahlen bis 100."
   ]
  },
  {
   "cell_type": "code",
   "execution_count": 4,
   "metadata": {},
   "outputs": [
    {
     "name": "stdout",
     "output_type": "stream",
     "text": [
      "OrderedSet([2, 3, 5, 7, 11, 13, 17, 19, 23, 29, 31, 37, 41, 43, 47, 53, 59, 61, 67, 71, 73, 79, 83, 89, 97])\n"
     ]
    }
   ],
   "source": [
    "print(splay_primes(100))"
   ]
  },
  {
   "cell_type": "markdown",
   "metadata": {},
   "source": [
    "Wir wiederholen die Implementierung mit dem eingebauten `set`."
   ]
  },
  {
   "cell_type": "code",
   "execution_count": 5,
   "metadata": {},
   "outputs": [],
   "source": [
    "def set_primes(n):\n",
    "    primes = set(range(2, n + 1))\n",
    "    for i in range(2, n + 1):\n",
    "        for j in range(2 * i, n + 1, i):\n",
    "            primes -= set([j])\n",
    "    return primes"
   ]
  },
  {
   "cell_type": "code",
   "execution_count": 6,
   "metadata": {},
   "outputs": [
    {
     "name": "stdout",
     "output_type": "stream",
     "text": [
      "{2, 3, 5, 7, 11, 13, 17, 19, 23, 29, 31, 37, 41, 43, 47, 53, 59, 61, 67, 71, 73, 79, 83, 89, 97}\n"
     ]
    }
   ],
   "source": [
    "print(set_primes(100))"
   ]
  },
  {
   "cell_type": "markdown",
   "metadata": {},
   "source": [
    "Wir betrachten nun vergleichend die Ausführungszeiten beider Varianten."
   ]
  },
  {
   "cell_type": "code",
   "execution_count": 7,
   "metadata": {},
   "outputs": [
    {
     "name": "stdout",
     "output_type": "stream",
     "text": [
      "442 ms ± 27.5 ms per loop (mean ± std. dev. of 7 runs, 1 loop each)\n",
      "19.5 ms ± 208 µs per loop (mean ± std. dev. of 7 runs, 100 loops each)\n",
      "Splaying was 21.25 times slower\n"
     ]
    }
   ],
   "source": [
    "# Ignore missing whitespace around operator because this is actually a flag\n",
    "# Ignore syntax error that flake8 sees due to a compatibility issue\n",
    "splay_times = %timeit -o splay_primes(10**4)  # noqa: E225, E999\n",
    "splay_time = splay_times.best\n",
    "set_times = %timeit -o set_primes(10**4)  # noqa: E225\n",
    "set_time = set_times.best\n",
    "if splay_time > set_time:\n",
    "    print(f\"Splaying was {round(splay_time / set_time, 2)} times slower\")\n",
    "else:\n",
    "    print(f\"Splaying was {round(set_time / splay_time, 2)} times faster\")"
   ]
  },
  {
   "cell_type": "markdown",
   "metadata": {},
   "source": [
    "Dabei ist zu beachten, dass wir zu diesem Zeitpunkt die Python-Implementierung mit einer C-Implementierung vergleichen."
   ]
  }
 ],
 "metadata": {
  "kernelspec": {
   "display_name": "Python 3",
   "language": "python",
   "name": "python3"
  },
  "language_info": {
   "codemirror_mode": {
    "name": "ipython",
    "version": 3
   },
   "file_extension": ".py",
   "mimetype": "text/x-python",
   "name": "python",
   "nbconvert_exporter": "python",
   "pygments_lexer": "ipython3",
   "version": "3.7.6"
  }
 },
 "nbformat": 4,
 "nbformat_minor": 2
}
